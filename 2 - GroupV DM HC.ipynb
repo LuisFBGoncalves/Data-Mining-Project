{
 "cells": [
  {
   "cell_type": "markdown",
   "metadata": {},
   "source": [
    "<center> <font size=\"6\"> <div class=\"alert alert-block alert-success\"> <strong> A2Z Insurance Customer Segmentation Project \n",
    "</strong> </div> </font> </center>"
   ]
  },
  {
   "cell_type": "markdown",
   "metadata": {},
   "source": [
    "<center> <font size=\"4\"> <div class=\"alert alert-block alert-success\"> <strong> Hierarchical Clustering \n",
    "</strong> </div> </font> </center>"
   ]
  },
  {
   "cell_type": "code",
   "execution_count": 1,
   "metadata": {},
   "outputs": [],
   "source": [
    "import warnings\n",
    "warnings.filterwarnings('ignore')\n",
    "\n",
    "import sqlite3\n",
    "import os\n",
    "import pandas as pd\n",
    "import numpy as np\n",
    "import matplotlib.pyplot as plt\n",
    "import matplotlib.cm as cm\n",
    "import seaborn as sns\n",
    "\n",
    "from math import ceil\n",
    "from matplotlib.lines import Line2D\n",
    "from matplotlib.patches import RegularPolygon, Ellipse\n",
    "from mpl_toolkits.axes_grid1 import make_axes_locatable\n",
    "from matplotlib import cm, colorbar, colors as mpl_colors, __version__ as mplver\n",
    "plt.rcParams['figure.dpi'] = 50\n",
    "\n",
    "from scipy.cluster.hierarchy import dendrogram\n",
    "\n",
    "from sklearn.metrics import silhouette_score, silhouette_samples\n",
    "from sklearn.neighbors import NearestNeighbors, KNeighborsClassifier\n",
    "from sklearn.mixture import GaussianMixture\n",
    "from sklearn.cluster import KMeans, AgglomerativeClustering, MeanShift, DBSCAN, estimate_bandwidth\n",
    "from sklearn.manifold import TSNE\n",
    "from sklearn.impute import KNNImputer\n",
    "from sklearn.preprocessing import MinMaxScaler, StandardScaler, OneHotEncoder\n",
    "from sklearn.decomposition import PCA\n",
    "from sklearn.metrics import pairwise_distances"
   ]
  },
  {
   "cell_type": "markdown",
   "metadata": {},
   "source": [
    "## Import Data"
   ]
  },
  {
   "cell_type": "code",
   "execution_count": 2,
   "metadata": {},
   "outputs": [],
   "source": [
    "#import pre-prec dataset\n",
    "df_ohc = pd.read_csv('preproc_data.csv')\n",
    "\n",
    "df_ohc = df_ohc.rename(columns={\"x0_b'2 - High School'\":'High School', \n",
    "                              \"x0_b'3 - BSc/MSc'\":'BSc/MSc', \n",
    "                              \"x0_b'4 - PhD'\":'PhD', \n",
    "                              'x1_Diamond':'Diamond', \n",
    "                              'x1_Gold':'Gold', \n",
    "                              'x1_Silver':'Silver',\n",
    "                              })"
   ]
  },
  {
   "cell_type": "code",
   "execution_count": 3,
   "metadata": {},
   "outputs": [],
   "source": [
    "#define perspectives\n",
    "demo = df_ohc[['High School', 'BSc/MSc', 'PhD', 'MonthSal', 'Children']].copy()\n",
    "\n",
    "cust_val = df_ohc[['CustMonVal', 'Client Tenure', 'Total Premium']].copy()"
   ]
  },
  {
   "cell_type": "markdown",
   "metadata": {},
   "source": [
    "## Hierarchical Clustering"
   ]
  },
  {
   "cell_type": "markdown",
   "metadata": {},
   "source": [
    "### Perspective 1: Customer Value"
   ]
  },
  {
   "cell_type": "markdown",
   "metadata": {},
   "source": [
    "* First attempt at HC"
   ]
  },
  {
   "cell_type": "code",
   "execution_count": 4,
   "metadata": {},
   "outputs": [
    {
     "data": {
      "text/plain": [
       "array([3, 1, 2, ..., 4, 0, 2], dtype=int64)"
      ]
     },
     "execution_count": 4,
     "metadata": {},
     "output_type": "execute_result"
    }
   ],
   "source": [
    "from sklearn.cluster import AgglomerativeClustering\n",
    "\n",
    "hclust = AgglomerativeClustering(linkage='ward',\n",
    "                                 affinity='euclidean',\n",
    "                                 n_clusters=5)\n",
    "hc_labels1 = hclust.fit_predict(cust_val)\n",
    "hc_labels1"
   ]
  },
  {
   "cell_type": "code",
   "execution_count": 5,
   "metadata": {},
   "outputs": [
    {
     "data": {
      "text/html": [
       "<div>\n",
       "<style scoped>\n",
       "    .dataframe tbody tr th:only-of-type {\n",
       "        vertical-align: middle;\n",
       "    }\n",
       "\n",
       "    .dataframe tbody tr th {\n",
       "        vertical-align: top;\n",
       "    }\n",
       "\n",
       "    .dataframe thead th {\n",
       "        text-align: right;\n",
       "    }\n",
       "</style>\n",
       "<table border=\"1\" class=\"dataframe\">\n",
       "  <thead>\n",
       "    <tr style=\"text-align: right;\">\n",
       "      <th></th>\n",
       "      <th>CustMonVal</th>\n",
       "      <th>Client Tenure</th>\n",
       "      <th>Total Premium</th>\n",
       "    </tr>\n",
       "    <tr>\n",
       "      <th>labels_hc1</th>\n",
       "      <th></th>\n",
       "      <th></th>\n",
       "      <th></th>\n",
       "    </tr>\n",
       "  </thead>\n",
       "  <tbody>\n",
       "    <tr>\n",
       "      <th>0</th>\n",
       "      <td>0.890270</td>\n",
       "      <td>0.797517</td>\n",
       "      <td>0.156710</td>\n",
       "    </tr>\n",
       "    <tr>\n",
       "      <th>1</th>\n",
       "      <td>0.897800</td>\n",
       "      <td>0.182781</td>\n",
       "      <td>0.333565</td>\n",
       "    </tr>\n",
       "    <tr>\n",
       "      <th>2</th>\n",
       "      <td>0.888327</td>\n",
       "      <td>0.374732</td>\n",
       "      <td>0.154520</td>\n",
       "    </tr>\n",
       "    <tr>\n",
       "      <th>3</th>\n",
       "      <td>0.888537</td>\n",
       "      <td>0.561769</td>\n",
       "      <td>0.136375</td>\n",
       "    </tr>\n",
       "    <tr>\n",
       "      <th>4</th>\n",
       "      <td>0.888150</td>\n",
       "      <td>0.183390</td>\n",
       "      <td>0.126528</td>\n",
       "    </tr>\n",
       "  </tbody>\n",
       "</table>\n",
       "</div>"
      ],
      "text/plain": [
       "            CustMonVal  Client Tenure  Total Premium\n",
       "labels_hc1                                          \n",
       "0             0.890270       0.797517       0.156710\n",
       "1             0.897800       0.182781       0.333565\n",
       "2             0.888327       0.374732       0.154520\n",
       "3             0.888537       0.561769       0.136375\n",
       "4             0.888150       0.183390       0.126528"
      ]
     },
     "execution_count": 5,
     "metadata": {},
     "output_type": "execute_result"
    }
   ],
   "source": [
    "df_concat = pd.concat(\n",
    "    (cust_val, pd.Series(hc_labels1, name='labels_hc1', index=cust_val.index)),\n",
    "    axis=1)\n",
    "df_concat.groupby('labels_hc1').mean()"
   ]
  },
  {
   "cell_type": "markdown",
   "metadata": {},
   "source": [
    "* Select HC method"
   ]
  },
  {
   "cell_type": "code",
   "execution_count": 6,
   "metadata": {},
   "outputs": [],
   "source": [
    "# Computing SST\n",
    "X = cust_val.values\n",
    "sst = np.sum(np.square(X - X.mean(axis=0)), axis=0)\n",
    "\n",
    "# Computing SSW\n",
    "ssw_iter = []\n",
    "for i in np.unique(hc_labels1):\n",
    "    X_k = X[hc_labels1 == i]\n",
    "    ssw_iter.append(np.sum(np.square(X_k - X_k.mean(axis=0)), axis=0))\n",
    "ssw = np.sum(ssw_iter, axis=0)\n",
    "\n",
    "# Computing SSB\n",
    "ssb_iter = []\n",
    "for i in np.unique(hc_labels1):\n",
    "    X_k = X[hc_labels1 == i]\n",
    "    ssb_iter.append(X_k.shape[0] *\n",
    "                    np.square(X_k.mean(axis=0) - X.mean(axis=0)))\n",
    "ssb = np.sum(ssb_iter, axis=0)\n",
    "\n",
    "# Verifying the formula: SST = SWW + SSB\n",
    "# np.round(sst) == np.round((ssw + ssb))"
   ]
  },
  {
   "cell_type": "code",
   "execution_count": 7,
   "metadata": {},
   "outputs": [],
   "source": [
    "def get_r2_hc(df, link_method, max_nclus, min_nclus=1, dist=\"euclidean\"):\n",
    "    def get_ss(df):\n",
    "        ss = np.sum(df.var() * (df.count() - 1))\n",
    "        return ss\n",
    "\n",
    "    sst = get_ss(df)\n",
    "\n",
    "    r2 = []\n",
    "\n",
    "    for i in range(min_nclus, max_nclus + 1):\n",
    "        cluster = AgglomerativeClustering(n_clusters=i,\n",
    "                                          affinity=dist,\n",
    "                                          linkage=link_method)\n",
    "        hclabels = cluster.fit_predict(df)\n",
    "        df_concat = pd.concat(\n",
    "            (df, pd.Series(hclabels, name='labels', index=cust_val.index)),\n",
    "            axis=1)\n",
    "        ssw_labels = df_concat.groupby(by='labels').apply(get_ss)\n",
    "        ssb = sst - np.sum(ssw_labels)\n",
    "        r2.append(ssb / sst)\n",
    "\n",
    "    return np.array(r2)"
   ]
  },
  {
   "cell_type": "code",
   "execution_count": 8,
   "metadata": {},
   "outputs": [],
   "source": [
    "hc_methods = [\"ward\", \"complete\", \"average\", \"single\"]\n",
    "\n",
    "max_nclus = 5\n",
    "r2_hc_methods = np.vstack([\n",
    "    get_r2_hc(df=cust_val, link_method=link, max_nclus=max_nclus)\n",
    "    for link in hc_methods\n",
    "]).T\n",
    "r2_hc_methods = pd.DataFrame(r2_hc_methods,\n",
    "                             index=range(1, max_nclus + 1),\n",
    "                             columns=hc_methods)\n",
    "\n",
    "sns.set()"
   ]
  },
  {
   "cell_type": "code",
   "execution_count": 9,
   "metadata": {},
   "outputs": [
    {
     "data": {
      "text/html": [
       "<div>\n",
       "<style scoped>\n",
       "    .dataframe tbody tr th:only-of-type {\n",
       "        vertical-align: middle;\n",
       "    }\n",
       "\n",
       "    .dataframe tbody tr th {\n",
       "        vertical-align: top;\n",
       "    }\n",
       "\n",
       "    .dataframe thead th {\n",
       "        text-align: right;\n",
       "    }\n",
       "</style>\n",
       "<table border=\"1\" class=\"dataframe\">\n",
       "  <thead>\n",
       "    <tr style=\"text-align: right;\">\n",
       "      <th></th>\n",
       "      <th>ward</th>\n",
       "      <th>complete</th>\n",
       "      <th>average</th>\n",
       "      <th>single</th>\n",
       "    </tr>\n",
       "  </thead>\n",
       "  <tbody>\n",
       "    <tr>\n",
       "      <th>1</th>\n",
       "      <td>0.000000</td>\n",
       "      <td>0.000000</td>\n",
       "      <td>0.000000</td>\n",
       "      <td>0.000000</td>\n",
       "    </tr>\n",
       "    <tr>\n",
       "      <th>2</th>\n",
       "      <td>0.569198</td>\n",
       "      <td>0.626366</td>\n",
       "      <td>0.007660</td>\n",
       "      <td>0.001133</td>\n",
       "    </tr>\n",
       "    <tr>\n",
       "      <th>3</th>\n",
       "      <td>0.744657</td>\n",
       "      <td>0.629571</td>\n",
       "      <td>0.010504</td>\n",
       "      <td>0.002887</td>\n",
       "    </tr>\n",
       "    <tr>\n",
       "      <th>4</th>\n",
       "      <td>0.795793</td>\n",
       "      <td>0.682336</td>\n",
       "      <td>0.010807</td>\n",
       "      <td>0.003247</td>\n",
       "    </tr>\n",
       "    <tr>\n",
       "      <th>5</th>\n",
       "      <td>0.835513</td>\n",
       "      <td>0.757218</td>\n",
       "      <td>0.611619</td>\n",
       "      <td>0.003443</td>\n",
       "    </tr>\n",
       "  </tbody>\n",
       "</table>\n",
       "</div>"
      ],
      "text/plain": [
       "       ward  complete   average    single\n",
       "1  0.000000  0.000000  0.000000  0.000000\n",
       "2  0.569198  0.626366  0.007660  0.001133\n",
       "3  0.744657  0.629571  0.010504  0.002887\n",
       "4  0.795793  0.682336  0.010807  0.003247\n",
       "5  0.835513  0.757218  0.611619  0.003443"
      ]
     },
     "execution_count": 9,
     "metadata": {},
     "output_type": "execute_result"
    }
   ],
   "source": [
    "r2_hc_methods"
   ]
  },
  {
   "cell_type": "code",
   "execution_count": 10,
   "metadata": {},
   "outputs": [
    {
     "data": {
      "image/png": "[encoded data removed]",
      "text/plain": [
       "<Figure size 550x250 with 1 Axes>"
      ]
     },
     "metadata": {},
     "output_type": "display_data"
    }
   ],
   "source": [
    "fig = plt.figure(figsize=(11, 5))\n",
    "sns.lineplot(data=r2_hc_methods, linewidth=2.5, markers=[\"o\"] * 4)\n",
    "fig.suptitle(\"R2 plot for various hierarchical methods\", fontsize=21)\n",
    "plt.gca().invert_xaxis()  # invert x axis\n",
    "plt.legend(title=\"HC methods\", title_fontsize=11)\n",
    "plt.xticks(range(1, max_nclus + 1))\n",
    "plt.xlabel(\"Number of clusters\", fontsize=13)\n",
    "plt.ylabel(\"R2 metric\", fontsize=13)\n",
    "plt.show()"
   ]
  },
  {
   "cell_type": "markdown",
   "metadata": {},
   "source": [
    "* Select number of clusters"
   ]
  },
  {
   "cell_type": "code",
   "execution_count": 11,
   "metadata": {},
   "outputs": [
    {
     "data": {
      "text/plain": [
       "array([6896, 5260, 5491, ...,    1,    2,    0], dtype=int64)"
      ]
     },
     "execution_count": 11,
     "metadata": {},
     "output_type": "execute_result"
    }
   ],
   "source": [
    "linkage = 'ward'\n",
    "distance = 'euclidean'\n",
    "hclust = AgglomerativeClustering(linkage=linkage,\n",
    "                                 affinity=distance,\n",
    "                                 distance_threshold=0,\n",
    "                                 n_clusters=None)\n",
    "hclust.fit_predict(cust_val)"
   ]
  },
  {
   "cell_type": "code",
   "execution_count": 12,
   "metadata": {
    "scrolled": true
   },
   "outputs": [
    {
     "data": {
      "image/png": "[encoded data removed]",
      "text/plain": [
       "<Figure size 550x250 with 1 Axes>"
      ]
     },
     "metadata": {},
     "output_type": "display_data"
    }
   ],
   "source": [
    "counts = np.zeros(hclust.children_.shape[0])\n",
    "n_samples = len(hclust.labels_)\n",
    "\n",
    "for i, merge in enumerate(hclust.children_):\n",
    "    current_count = 0\n",
    "    for child_idx in merge:\n",
    "        if child_idx < n_samples:\n",
    "            current_count += 1\n",
    "        else:\n",
    "            current_count += counts[child_idx - n_samples]\n",
    "    counts[i] = current_count\n",
    "\n",
    "linkage_matrix = np.column_stack([hclust.children_, hclust.distances_,\n",
    "                                  counts]).astype(float)\n",
    "\n",
    "sns.set()\n",
    "fig = plt.figure(figsize=(11, 5))\n",
    "y_threshold = 60\n",
    "#plt.axhline(y=15)\n",
    "#plt.axhline(y=12.5)\n",
    "dendrogram(linkage_matrix,\n",
    "           truncate_mode='level',\n",
    "           p=5,\n",
    "           color_threshold=y_threshold,\n",
    "           above_threshold_color='k')\n",
    "plt.hlines(y_threshold, 0, 1000, colors=\"r\", linestyles=\"dashed\")\n",
    "plt.title(f'Hierarchical Clustering - {linkage.title()}\\'s Dendrogram',\n",
    "          fontsize=21)\n",
    "plt.xlabel('Number of points in node (or index of point if no parenthesis)')\n",
    "plt.ylabel(f'{distance.title()} Distance', fontsize=13)\n",
    "plt.show()"
   ]
  },
  {
   "cell_type": "markdown",
   "metadata": {},
   "source": [
    "* Final HC "
   ]
  },
  {
   "cell_type": "code",
   "execution_count": 13,
   "metadata": {},
   "outputs": [],
   "source": [
    "linkage = 'ward'\n",
    "distance = 'euclidean'\n",
    "clusters = 2"
   ]
  },
  {
   "cell_type": "code",
   "execution_count": 14,
   "metadata": {},
   "outputs": [],
   "source": [
    "hc1 = AgglomerativeClustering(linkage=linkage,\n",
    "                              affinity=distance,\n",
    "                              n_clusters=clusters)\n",
    "hc1_labels = hc1.fit_predict(cust_val)"
   ]
  },
  {
   "cell_type": "code",
   "execution_count": 15,
   "metadata": {
    "scrolled": true
   },
   "outputs": [
    {
     "data": {
      "text/html": [
       "<div>\n",
       "<style scoped>\n",
       "    .dataframe tbody tr th:only-of-type {\n",
       "        vertical-align: middle;\n",
       "    }\n",
       "\n",
       "    .dataframe tbody tr th {\n",
       "        vertical-align: top;\n",
       "    }\n",
       "\n",
       "    .dataframe thead th {\n",
       "        text-align: right;\n",
       "    }\n",
       "</style>\n",
       "<table border=\"1\" class=\"dataframe\">\n",
       "  <thead>\n",
       "    <tr style=\"text-align: right;\">\n",
       "      <th></th>\n",
       "      <th>labels_hc1</th>\n",
       "      <th>0</th>\n",
       "      <th>1</th>\n",
       "    </tr>\n",
       "  </thead>\n",
       "  <tbody>\n",
       "    <tr>\n",
       "      <th rowspan=\"8\" valign=\"top\">CustMonVal</th>\n",
       "      <th>count</th>\n",
       "      <td>7310.000000</td>\n",
       "      <td>2931.000000</td>\n",
       "    </tr>\n",
       "    <tr>\n",
       "      <th>mean</th>\n",
       "      <td>0.890083</td>\n",
       "      <td>0.890270</td>\n",
       "    </tr>\n",
       "    <tr>\n",
       "      <th>std</th>\n",
       "      <td>0.023699</td>\n",
       "      <td>0.014108</td>\n",
       "    </tr>\n",
       "    <tr>\n",
       "      <th>min</th>\n",
       "      <td>0.000000</td>\n",
       "      <td>0.859676</td>\n",
       "    </tr>\n",
       "    <tr>\n",
       "      <th>25%</th>\n",
       "      <td>0.876940</td>\n",
       "      <td>0.876952</td>\n",
       "    </tr>\n",
       "    <tr>\n",
       "      <th>50%</th>\n",
       "      <td>0.888470</td>\n",
       "      <td>0.889220</td>\n",
       "    </tr>\n",
       "    <tr>\n",
       "      <th>75%</th>\n",
       "      <td>0.901227</td>\n",
       "      <td>0.901428</td>\n",
       "    </tr>\n",
       "    <tr>\n",
       "      <th>max</th>\n",
       "      <td>1.000000</td>\n",
       "      <td>0.961327</td>\n",
       "    </tr>\n",
       "    <tr>\n",
       "      <th rowspan=\"8\" valign=\"top\">Client Tenure</th>\n",
       "      <th>count</th>\n",
       "      <td>7310.000000</td>\n",
       "      <td>2931.000000</td>\n",
       "    </tr>\n",
       "    <tr>\n",
       "      <th>mean</th>\n",
       "      <td>0.347510</td>\n",
       "      <td>0.797517</td>\n",
       "    </tr>\n",
       "    <tr>\n",
       "      <th>std</th>\n",
       "      <td>0.161078</td>\n",
       "      <td>0.102753</td>\n",
       "    </tr>\n",
       "    <tr>\n",
       "      <th>min</th>\n",
       "      <td>0.000000</td>\n",
       "      <td>0.576923</td>\n",
       "    </tr>\n",
       "    <tr>\n",
       "      <th>25%</th>\n",
       "      <td>0.230769</td>\n",
       "      <td>0.730769</td>\n",
       "    </tr>\n",
       "    <tr>\n",
       "      <th>50%</th>\n",
       "      <td>0.346154</td>\n",
       "      <td>0.807692</td>\n",
       "    </tr>\n",
       "    <tr>\n",
       "      <th>75%</th>\n",
       "      <td>0.461538</td>\n",
       "      <td>0.884615</td>\n",
       "    </tr>\n",
       "    <tr>\n",
       "      <th>max</th>\n",
       "      <td>0.692308</td>\n",
       "      <td>1.000000</td>\n",
       "    </tr>\n",
       "    <tr>\n",
       "      <th rowspan=\"8\" valign=\"top\">Total Premium</th>\n",
       "      <th>count</th>\n",
       "      <td>7310.000000</td>\n",
       "      <td>2931.000000</td>\n",
       "    </tr>\n",
       "    <tr>\n",
       "      <th>mean</th>\n",
       "      <td>0.177575</td>\n",
       "      <td>0.156710</td>\n",
       "    </tr>\n",
       "    <tr>\n",
       "      <th>std</th>\n",
       "      <td>0.103868</td>\n",
       "      <td>0.076686</td>\n",
       "    </tr>\n",
       "    <tr>\n",
       "      <th>min</th>\n",
       "      <td>0.006439</td>\n",
       "      <td>0.000000</td>\n",
       "    </tr>\n",
       "    <tr>\n",
       "      <th>25%</th>\n",
       "      <td>0.108390</td>\n",
       "      <td>0.104485</td>\n",
       "    </tr>\n",
       "    <tr>\n",
       "      <th>50%</th>\n",
       "      <td>0.146604</td>\n",
       "      <td>0.137161</td>\n",
       "    </tr>\n",
       "    <tr>\n",
       "      <th>75%</th>\n",
       "      <td>0.213603</td>\n",
       "      <td>0.189339</td>\n",
       "    </tr>\n",
       "    <tr>\n",
       "      <th>max</th>\n",
       "      <td>1.000000</td>\n",
       "      <td>0.546469</td>\n",
       "    </tr>\n",
       "  </tbody>\n",
       "</table>\n",
       "</div>"
      ],
      "text/plain": [
       "labels_hc1                     0            1\n",
       "CustMonVal    count  7310.000000  2931.000000\n",
       "              mean      0.890083     0.890270\n",
       "              std       0.023699     0.014108\n",
       "              min       0.000000     0.859676\n",
       "              25%       0.876940     0.876952\n",
       "              50%       0.888470     0.889220\n",
       "              75%       0.901227     0.901428\n",
       "              max       1.000000     0.961327\n",
       "Client Tenure count  7310.000000  2931.000000\n",
       "              mean      0.347510     0.797517\n",
       "              std       0.161078     0.102753\n",
       "              min       0.000000     0.576923\n",
       "              25%       0.230769     0.730769\n",
       "              50%       0.346154     0.807692\n",
       "              75%       0.461538     0.884615\n",
       "              max       0.692308     1.000000\n",
       "Total Premium count  7310.000000  2931.000000\n",
       "              mean      0.177575     0.156710\n",
       "              std       0.103868     0.076686\n",
       "              min       0.006439     0.000000\n",
       "              25%       0.108390     0.104485\n",
       "              50%       0.146604     0.137161\n",
       "              75%       0.213603     0.189339\n",
       "              max       1.000000     0.546469"
      ]
     },
     "execution_count": 15,
     "metadata": {},
     "output_type": "execute_result"
    }
   ],
   "source": [
    "df_concat1 = pd.concat(\n",
    "    (cust_val, pd.Series(hc1_labels, name='labels_hc1', index=cust_val.index)),\n",
    "    axis=1)\n",
    "df_concat1.groupby('labels_hc1').describe().T"
   ]
  },
  {
   "cell_type": "code",
   "execution_count": 16,
   "metadata": {},
   "outputs": [],
   "source": [
    "df_ohc['cust_val'] = df_concat1['labels_hc1']"
   ]
  },
  {
   "cell_type": "markdown",
   "metadata": {},
   "source": [
    "### Perspective 2: Customer Demography"
   ]
  },
  {
   "cell_type": "markdown",
   "metadata": {},
   "source": [
    "* First attempt at HC"
   ]
  },
  {
   "cell_type": "code",
   "execution_count": 17,
   "metadata": {},
   "outputs": [
    {
     "data": {
      "text/plain": [
       "array([4, 4, 0, ..., 1, 2, 2], dtype=int64)"
      ]
     },
     "execution_count": 17,
     "metadata": {},
     "output_type": "execute_result"
    }
   ],
   "source": [
    "from sklearn.cluster import AgglomerativeClustering\n",
    "\n",
    "hclust = AgglomerativeClustering(linkage='ward',\n",
    "                                 affinity='euclidean',\n",
    "                                 n_clusters=5)\n",
    "hc_labels2 = hclust.fit_predict(demo)\n",
    "hc_labels2"
   ]
  },
  {
   "cell_type": "code",
   "execution_count": 18,
   "metadata": {},
   "outputs": [
    {
     "data": {
      "text/html": [
       "<div>\n",
       "<style scoped>\n",
       "    .dataframe tbody tr th:only-of-type {\n",
       "        vertical-align: middle;\n",
       "    }\n",
       "\n",
       "    .dataframe tbody tr th {\n",
       "        vertical-align: top;\n",
       "    }\n",
       "\n",
       "    .dataframe thead th {\n",
       "        text-align: right;\n",
       "    }\n",
       "</style>\n",
       "<table border=\"1\" class=\"dataframe\">\n",
       "  <thead>\n",
       "    <tr style=\"text-align: right;\">\n",
       "      <th></th>\n",
       "      <th>High School</th>\n",
       "      <th>BSc/MSc</th>\n",
       "      <th>PhD</th>\n",
       "      <th>MonthSal</th>\n",
       "      <th>Children</th>\n",
       "    </tr>\n",
       "    <tr>\n",
       "      <th>labels_hc2</th>\n",
       "      <th></th>\n",
       "      <th></th>\n",
       "      <th></th>\n",
       "      <th></th>\n",
       "      <th></th>\n",
       "    </tr>\n",
       "  </thead>\n",
       "  <tbody>\n",
       "    <tr>\n",
       "      <th>0</th>\n",
       "      <td>0.63995</td>\n",
       "      <td>0.0</td>\n",
       "      <td>0.130244</td>\n",
       "      <td>0.584833</td>\n",
       "      <td>0.000626</td>\n",
       "    </tr>\n",
       "    <tr>\n",
       "      <th>1</th>\n",
       "      <td>0.00000</td>\n",
       "      <td>1.0</td>\n",
       "      <td>0.000000</td>\n",
       "      <td>0.422108</td>\n",
       "      <td>0.999824</td>\n",
       "    </tr>\n",
       "    <tr>\n",
       "      <th>2</th>\n",
       "      <td>0.00000</td>\n",
       "      <td>0.0</td>\n",
       "      <td>0.358187</td>\n",
       "      <td>0.348781</td>\n",
       "      <td>0.999415</td>\n",
       "    </tr>\n",
       "    <tr>\n",
       "      <th>3</th>\n",
       "      <td>0.00000</td>\n",
       "      <td>1.0</td>\n",
       "      <td>0.000000</td>\n",
       "      <td>0.646756</td>\n",
       "      <td>0.000000</td>\n",
       "    </tr>\n",
       "    <tr>\n",
       "      <th>4</th>\n",
       "      <td>1.00000</td>\n",
       "      <td>0.0</td>\n",
       "      <td>0.000000</td>\n",
       "      <td>0.399152</td>\n",
       "      <td>0.999757</td>\n",
       "    </tr>\n",
       "  </tbody>\n",
       "</table>\n",
       "</div>"
      ],
      "text/plain": [
       "            High School  BSc/MSc       PhD  MonthSal  Children\n",
       "labels_hc2                                                    \n",
       "0               0.63995      0.0  0.130244  0.584833  0.000626\n",
       "1               0.00000      1.0  0.000000  0.422108  0.999824\n",
       "2               0.00000      0.0  0.358187  0.348781  0.999415\n",
       "3               0.00000      1.0  0.000000  0.646756  0.000000\n",
       "4               1.00000      0.0  0.000000  0.399152  0.999757"
      ]
     },
     "execution_count": 18,
     "metadata": {},
     "output_type": "execute_result"
    }
   ],
   "source": [
    "df_concat = pd.concat(\n",
    "    (demo, pd.Series(hc_labels2, name='labels_hc2', index=demo.index)), axis=1)\n",
    "df_concat.groupby('labels_hc2').mean()"
   ]
  },
  {
   "cell_type": "markdown",
   "metadata": {},
   "source": [
    "* Select HC method"
   ]
  },
  {
   "cell_type": "code",
   "execution_count": 19,
   "metadata": {},
   "outputs": [],
   "source": [
    "X = demo.values\n",
    "sst = np.sum(np.square(X - X.mean(axis=0)), axis=0)\n",
    "\n",
    "ssw_iter = []\n",
    "for i in np.unique(hc_labels2):\n",
    "    X_k = X[hc_labels2 == i]\n",
    "    ssw_iter.append(np.sum(np.square(X_k - X_k.mean(axis=0)), axis=0))\n",
    "ssw = np.sum(ssw_iter, axis=0)\n",
    "\n",
    "ssb_iter = []\n",
    "for i in np.unique(hc_labels2):\n",
    "    X_k = X[hc_labels2 == i]\n",
    "    ssb_iter.append(X_k.shape[0] *\n",
    "                    np.square(X_k.mean(axis=0) - X.mean(axis=0)))\n",
    "ssb = np.sum(ssb_iter, axis=0)\n",
    "\n",
    "# Verifying the formula: SST = SWW + SSB\n",
    "# np.round(sst) == np.round((ssw + ssb))"
   ]
  },
  {
   "cell_type": "code",
   "execution_count": 20,
   "metadata": {},
   "outputs": [],
   "source": [
    "hc_methods = [\"ward\", \"complete\", \"average\", \"single\"]\n",
    "\n",
    "max_nclus = 10\n",
    "r2_hc_methods = np.vstack([\n",
    "    get_r2_hc(df=demo, link_method=link, max_nclus=max_nclus)\n",
    "    for link in hc_methods\n",
    "]).T\n",
    "r2_hc_methods = pd.DataFrame(r2_hc_methods,\n",
    "                             index=range(1, max_nclus + 1),\n",
    "                             columns=hc_methods)\n",
    "\n",
    "sns.set()"
   ]
  },
  {
   "cell_type": "code",
   "execution_count": 21,
   "metadata": {},
   "outputs": [
    {
     "data": {
      "text/html": [
       "<div>\n",
       "<style scoped>\n",
       "    .dataframe tbody tr th:only-of-type {\n",
       "        vertical-align: middle;\n",
       "    }\n",
       "\n",
       "    .dataframe tbody tr th {\n",
       "        vertical-align: top;\n",
       "    }\n",
       "\n",
       "    .dataframe thead th {\n",
       "        text-align: right;\n",
       "    }\n",
       "</style>\n",
       "<table border=\"1\" class=\"dataframe\">\n",
       "  <thead>\n",
       "    <tr style=\"text-align: right;\">\n",
       "      <th></th>\n",
       "      <th>ward</th>\n",
       "      <th>complete</th>\n",
       "      <th>average</th>\n",
       "      <th>single</th>\n",
       "    </tr>\n",
       "  </thead>\n",
       "  <tbody>\n",
       "    <tr>\n",
       "      <th>1</th>\n",
       "      <td>0.000000</td>\n",
       "      <td>0.000000</td>\n",
       "      <td>0.000000</td>\n",
       "      <td>0.000000</td>\n",
       "    </tr>\n",
       "    <tr>\n",
       "      <th>2</th>\n",
       "      <td>0.452561</td>\n",
       "      <td>0.418202</td>\n",
       "      <td>0.111961</td>\n",
       "      <td>0.111961</td>\n",
       "    </tr>\n",
       "    <tr>\n",
       "      <th>3</th>\n",
       "      <td>0.597889</td>\n",
       "      <td>0.569280</td>\n",
       "      <td>0.569280</td>\n",
       "      <td>0.569280</td>\n",
       "    </tr>\n",
       "    <tr>\n",
       "      <th>4</th>\n",
       "      <td>0.726827</td>\n",
       "      <td>0.695585</td>\n",
       "      <td>0.695585</td>\n",
       "      <td>0.684289</td>\n",
       "    </tr>\n",
       "    <tr>\n",
       "      <th>5</th>\n",
       "      <td>0.850274</td>\n",
       "      <td>0.729613</td>\n",
       "      <td>0.729613</td>\n",
       "      <td>0.813227</td>\n",
       "    </tr>\n",
       "    <tr>\n",
       "      <th>6</th>\n",
       "      <td>0.902027</td>\n",
       "      <td>0.858551</td>\n",
       "      <td>0.858551</td>\n",
       "      <td>0.906591</td>\n",
       "    </tr>\n",
       "    <tr>\n",
       "      <th>7</th>\n",
       "      <td>0.941587</td>\n",
       "      <td>0.939570</td>\n",
       "      <td>0.877582</td>\n",
       "      <td>0.925623</td>\n",
       "    </tr>\n",
       "    <tr>\n",
       "      <th>8</th>\n",
       "      <td>0.958602</td>\n",
       "      <td>0.958602</td>\n",
       "      <td>0.958602</td>\n",
       "      <td>0.958602</td>\n",
       "    </tr>\n",
       "    <tr>\n",
       "      <th>9</th>\n",
       "      <td>0.965704</td>\n",
       "      <td>0.963021</td>\n",
       "      <td>0.961754</td>\n",
       "      <td>0.958622</td>\n",
       "    </tr>\n",
       "    <tr>\n",
       "      <th>10</th>\n",
       "      <td>0.972155</td>\n",
       "      <td>0.966504</td>\n",
       "      <td>0.965936</td>\n",
       "      <td>0.958651</td>\n",
       "    </tr>\n",
       "  </tbody>\n",
       "</table>\n",
       "</div>"
      ],
      "text/plain": [
       "        ward  complete   average    single\n",
       "1   0.000000  0.000000  0.000000  0.000000\n",
       "2   0.452561  0.418202  0.111961  0.111961\n",
       "3   0.597889  0.569280  0.569280  0.569280\n",
       "4   0.726827  0.695585  0.695585  0.684289\n",
       "5   0.850274  0.729613  0.729613  0.813227\n",
       "6   0.902027  0.858551  0.858551  0.906591\n",
       "7   0.941587  0.939570  0.877582  0.925623\n",
       "8   0.958602  0.958602  0.958602  0.958602\n",
       "9   0.965704  0.963021  0.961754  0.958622\n",
       "10  0.972155  0.966504  0.965936  0.958651"
      ]
     },
     "execution_count": 21,
     "metadata": {},
     "output_type": "execute_result"
    }
   ],
   "source": [
    "r2_hc_methods"
   ]
  },
  {
   "cell_type": "code",
   "execution_count": 22,
   "metadata": {},
   "outputs": [
    {
     "data": {
      "image/png": "[encoded data removed]",
      "text/plain": [
       "<Figure size 550x250 with 1 Axes>"
      ]
     },
     "metadata": {},
     "output_type": "display_data"
    }
   ],
   "source": [
    "fig = plt.figure(figsize=(11, 5))\n",
    "sns.lineplot(data=r2_hc_methods, linewidth=2.5, markers=[\"o\"] * 4)\n",
    "fig.suptitle(\"R2 plot for various hierarchical methods\", fontsize=21)\n",
    "plt.gca().invert_xaxis()  # invert x axis\n",
    "plt.legend(title=\"HC methods\", title_fontsize=11)\n",
    "plt.xticks(range(1, max_nclus + 1))\n",
    "plt.xlabel(\"Number of clusters\", fontsize=13)\n",
    "plt.ylabel(\"R2 metric\", fontsize=13)\n",
    "\n",
    "plt.show()"
   ]
  },
  {
   "cell_type": "markdown",
   "metadata": {},
   "source": [
    "* Select number of clusters"
   ]
  },
  {
   "cell_type": "code",
   "execution_count": 23,
   "metadata": {},
   "outputs": [
    {
     "data": {
      "text/plain": [
       "array([10240,  8279,  6231, ...,     4,     1,     0], dtype=int64)"
      ]
     },
     "execution_count": 23,
     "metadata": {},
     "output_type": "execute_result"
    }
   ],
   "source": [
    "linkage = 'ward'\n",
    "distance = 'euclidean'\n",
    "hclust = AgglomerativeClustering(linkage=linkage,\n",
    "                                 affinity=distance,\n",
    "                                 distance_threshold=0,\n",
    "                                 n_clusters=None)\n",
    "hclust.fit_predict(demo)"
   ]
  },
  {
   "cell_type": "code",
   "execution_count": 24,
   "metadata": {
    "scrolled": true
   },
   "outputs": [
    {
     "data": {
      "image/png": "[encoded data removed]",
      "text/plain": [
       "<Figure size 550x250 with 1 Axes>"
      ]
     },
     "metadata": {},
     "output_type": "display_data"
    }
   ],
   "source": [
    "counts = np.zeros(hclust.children_.shape[0])\n",
    "n_samples = len(hclust.labels_)\n",
    "\n",
    "for i, merge in enumerate(hclust.children_):\n",
    "    current_count = 0\n",
    "    for child_idx in merge:\n",
    "        if child_idx < n_samples:\n",
    "            current_count += 1\n",
    "        else:\n",
    "            current_count += counts[child_idx - n_samples]\n",
    "    counts[i] = current_count\n",
    "\n",
    "linkage_matrix = np.column_stack([hclust.children_, hclust.distances_,\n",
    "                                  counts]).astype(float)\n",
    "\n",
    "sns.set()\n",
    "fig = plt.figure(figsize=(11, 5))\n",
    "dendrogram(linkage_matrix,\n",
    "           truncate_mode='level',\n",
    "           p=5,\n",
    "           color_threshold=y_threshold,\n",
    "           above_threshold_color='k')\n",
    "plt.axhline(y=60, c='red', lw=2)\n",
    "plt.title(f'Hierarchical Clustering - {linkage.title()}\\'s Dendrogram',\n",
    "          fontsize=21)\n",
    "plt.xlabel('Number of points in node (or index of point if no parenthesis)')\n",
    "plt.ylabel(f'{distance.title()} Distance', fontsize=13)\n",
    "plt.show()"
   ]
  },
  {
   "cell_type": "markdown",
   "metadata": {},
   "source": [
    "* Final HC "
   ]
  },
  {
   "cell_type": "code",
   "execution_count": 25,
   "metadata": {},
   "outputs": [],
   "source": [
    "linkage = 'ward'\n",
    "distance = 'euclidean'\n",
    "clusters = 2"
   ]
  },
  {
   "cell_type": "code",
   "execution_count": 26,
   "metadata": {},
   "outputs": [],
   "source": [
    "hc2 = AgglomerativeClustering(linkage=linkage,\n",
    "                              affinity=distance,\n",
    "                              n_clusters=clusters)\n",
    "hc2_labels = hc2.fit_predict(demo)"
   ]
  },
  {
   "cell_type": "code",
   "execution_count": 27,
   "metadata": {
    "scrolled": true
   },
   "outputs": [
    {
     "data": {
      "text/html": [
       "<div>\n",
       "<style scoped>\n",
       "    .dataframe tbody tr th:only-of-type {\n",
       "        vertical-align: middle;\n",
       "    }\n",
       "\n",
       "    .dataframe tbody tr th {\n",
       "        vertical-align: top;\n",
       "    }\n",
       "\n",
       "    .dataframe thead th {\n",
       "        text-align: right;\n",
       "    }\n",
       "</style>\n",
       "<table border=\"1\" class=\"dataframe\">\n",
       "  <thead>\n",
       "    <tr style=\"text-align: right;\">\n",
       "      <th></th>\n",
       "      <th>labels_hc2</th>\n",
       "      <th>0</th>\n",
       "      <th>1</th>\n",
       "    </tr>\n",
       "  </thead>\n",
       "  <tbody>\n",
       "    <tr>\n",
       "      <th rowspan=\"8\" valign=\"top\">High School</th>\n",
       "      <th>count</th>\n",
       "      <td>5438.000000</td>\n",
       "      <td>4803.000000</td>\n",
       "    </tr>\n",
       "    <tr>\n",
       "      <th>mean</th>\n",
       "      <td>0.642700</td>\n",
       "      <td>0.000000</td>\n",
       "    </tr>\n",
       "    <tr>\n",
       "      <th>std</th>\n",
       "      <td>0.479248</td>\n",
       "      <td>0.000000</td>\n",
       "    </tr>\n",
       "    <tr>\n",
       "      <th>min</th>\n",
       "      <td>0.000000</td>\n",
       "      <td>0.000000</td>\n",
       "    </tr>\n",
       "    <tr>\n",
       "      <th>25%</th>\n",
       "      <td>0.000000</td>\n",
       "      <td>0.000000</td>\n",
       "    </tr>\n",
       "    <tr>\n",
       "      <th>50%</th>\n",
       "      <td>1.000000</td>\n",
       "      <td>0.000000</td>\n",
       "    </tr>\n",
       "    <tr>\n",
       "      <th>75%</th>\n",
       "      <td>1.000000</td>\n",
       "      <td>0.000000</td>\n",
       "    </tr>\n",
       "    <tr>\n",
       "      <th>max</th>\n",
       "      <td>1.000000</td>\n",
       "      <td>0.000000</td>\n",
       "    </tr>\n",
       "    <tr>\n",
       "      <th rowspan=\"8\" valign=\"top\">BSc/MSc</th>\n",
       "      <th>count</th>\n",
       "      <td>5438.000000</td>\n",
       "      <td>4803.000000</td>\n",
       "    </tr>\n",
       "    <tr>\n",
       "      <th>mean</th>\n",
       "      <td>0.000000</td>\n",
       "      <td>1.000000</td>\n",
       "    </tr>\n",
       "    <tr>\n",
       "      <th>std</th>\n",
       "      <td>0.000000</td>\n",
       "      <td>0.000000</td>\n",
       "    </tr>\n",
       "    <tr>\n",
       "      <th>min</th>\n",
       "      <td>0.000000</td>\n",
       "      <td>1.000000</td>\n",
       "    </tr>\n",
       "    <tr>\n",
       "      <th>25%</th>\n",
       "      <td>0.000000</td>\n",
       "      <td>1.000000</td>\n",
       "    </tr>\n",
       "    <tr>\n",
       "      <th>50%</th>\n",
       "      <td>0.000000</td>\n",
       "      <td>1.000000</td>\n",
       "    </tr>\n",
       "    <tr>\n",
       "      <th>75%</th>\n",
       "      <td>0.000000</td>\n",
       "      <td>1.000000</td>\n",
       "    </tr>\n",
       "    <tr>\n",
       "      <th>max</th>\n",
       "      <td>0.000000</td>\n",
       "      <td>1.000000</td>\n",
       "    </tr>\n",
       "    <tr>\n",
       "      <th rowspan=\"8\" valign=\"top\">PhD</th>\n",
       "      <th>count</th>\n",
       "      <td>5438.000000</td>\n",
       "      <td>4803.000000</td>\n",
       "    </tr>\n",
       "    <tr>\n",
       "      <th>mean</th>\n",
       "      <td>0.128356</td>\n",
       "      <td>0.000000</td>\n",
       "    </tr>\n",
       "    <tr>\n",
       "      <th>std</th>\n",
       "      <td>0.334517</td>\n",
       "      <td>0.000000</td>\n",
       "    </tr>\n",
       "    <tr>\n",
       "      <th>min</th>\n",
       "      <td>0.000000</td>\n",
       "      <td>0.000000</td>\n",
       "    </tr>\n",
       "    <tr>\n",
       "      <th>25%</th>\n",
       "      <td>0.000000</td>\n",
       "      <td>0.000000</td>\n",
       "    </tr>\n",
       "    <tr>\n",
       "      <th>50%</th>\n",
       "      <td>0.000000</td>\n",
       "      <td>0.000000</td>\n",
       "    </tr>\n",
       "    <tr>\n",
       "      <th>75%</th>\n",
       "      <td>0.000000</td>\n",
       "      <td>0.000000</td>\n",
       "    </tr>\n",
       "    <tr>\n",
       "      <th>max</th>\n",
       "      <td>1.000000</td>\n",
       "      <td>0.000000</td>\n",
       "    </tr>\n",
       "    <tr>\n",
       "      <th rowspan=\"8\" valign=\"top\">MonthSal</th>\n",
       "      <th>count</th>\n",
       "      <td>5438.000000</td>\n",
       "      <td>4803.000000</td>\n",
       "    </tr>\n",
       "    <tr>\n",
       "      <th>mean</th>\n",
       "      <td>0.441010</td>\n",
       "      <td>0.487450</td>\n",
       "    </tr>\n",
       "    <tr>\n",
       "      <th>std</th>\n",
       "      <td>0.219064</td>\n",
       "      <td>0.194679</td>\n",
       "    </tr>\n",
       "    <tr>\n",
       "      <th>min</th>\n",
       "      <td>0.000000</td>\n",
       "      <td>0.006826</td>\n",
       "    </tr>\n",
       "    <tr>\n",
       "      <th>25%</th>\n",
       "      <td>0.256826</td>\n",
       "      <td>0.331378</td>\n",
       "    </tr>\n",
       "    <tr>\n",
       "      <th>50%</th>\n",
       "      <td>0.438460</td>\n",
       "      <td>0.486775</td>\n",
       "    </tr>\n",
       "    <tr>\n",
       "      <th>75%</th>\n",
       "      <td>0.618121</td>\n",
       "      <td>0.641212</td>\n",
       "    </tr>\n",
       "    <tr>\n",
       "      <th>max</th>\n",
       "      <td>1.000000</td>\n",
       "      <td>0.994454</td>\n",
       "    </tr>\n",
       "    <tr>\n",
       "      <th rowspan=\"8\" valign=\"top\">Children</th>\n",
       "      <th>count</th>\n",
       "      <td>5438.000000</td>\n",
       "      <td>4803.000000</td>\n",
       "    </tr>\n",
       "    <tr>\n",
       "      <th>mean</th>\n",
       "      <td>0.706252</td>\n",
       "      <td>0.709015</td>\n",
       "    </tr>\n",
       "    <tr>\n",
       "      <th>std</th>\n",
       "      <td>0.455164</td>\n",
       "      <td>0.454154</td>\n",
       "    </tr>\n",
       "    <tr>\n",
       "      <th>min</th>\n",
       "      <td>0.000000</td>\n",
       "      <td>0.000000</td>\n",
       "    </tr>\n",
       "    <tr>\n",
       "      <th>25%</th>\n",
       "      <td>0.000000</td>\n",
       "      <td>0.000000</td>\n",
       "    </tr>\n",
       "    <tr>\n",
       "      <th>50%</th>\n",
       "      <td>1.000000</td>\n",
       "      <td>1.000000</td>\n",
       "    </tr>\n",
       "    <tr>\n",
       "      <th>75%</th>\n",
       "      <td>1.000000</td>\n",
       "      <td>1.000000</td>\n",
       "    </tr>\n",
       "    <tr>\n",
       "      <th>max</th>\n",
       "      <td>1.000000</td>\n",
       "      <td>1.000000</td>\n",
       "    </tr>\n",
       "  </tbody>\n",
       "</table>\n",
       "</div>"
      ],
      "text/plain": [
       "labels_hc2                   0            1\n",
       "High School count  5438.000000  4803.000000\n",
       "            mean      0.642700     0.000000\n",
       "            std       0.479248     0.000000\n",
       "            min       0.000000     0.000000\n",
       "            25%       0.000000     0.000000\n",
       "            50%       1.000000     0.000000\n",
       "            75%       1.000000     0.000000\n",
       "            max       1.000000     0.000000\n",
       "BSc/MSc     count  5438.000000  4803.000000\n",
       "            mean      0.000000     1.000000\n",
       "            std       0.000000     0.000000\n",
       "            min       0.000000     1.000000\n",
       "            25%       0.000000     1.000000\n",
       "            50%       0.000000     1.000000\n",
       "            75%       0.000000     1.000000\n",
       "            max       0.000000     1.000000\n",
       "PhD         count  5438.000000  4803.000000\n",
       "            mean      0.128356     0.000000\n",
       "            std       0.334517     0.000000\n",
       "            min       0.000000     0.000000\n",
       "            25%       0.000000     0.000000\n",
       "            50%       0.000000     0.000000\n",
       "            75%       0.000000     0.000000\n",
       "            max       1.000000     0.000000\n",
       "MonthSal    count  5438.000000  4803.000000\n",
       "            mean      0.441010     0.487450\n",
       "            std       0.219064     0.194679\n",
       "            min       0.000000     0.006826\n",
       "            25%       0.256826     0.331378\n",
       "            50%       0.438460     0.486775\n",
       "            75%       0.618121     0.641212\n",
       "            max       1.000000     0.994454\n",
       "Children    count  5438.000000  4803.000000\n",
       "            mean      0.706252     0.709015\n",
       "            std       0.455164     0.454154\n",
       "            min       0.000000     0.000000\n",
       "            25%       0.000000     0.000000\n",
       "            50%       1.000000     1.000000\n",
       "            75%       1.000000     1.000000\n",
       "            max       1.000000     1.000000"
      ]
     },
     "execution_count": 27,
     "metadata": {},
     "output_type": "execute_result"
    }
   ],
   "source": [
    "df_concat2 = pd.concat(\n",
    "    (demo, pd.Series(hc2_labels, name='labels_hc2', index=demo.index)), axis=1)\n",
    "df_concat2.groupby('labels_hc2').describe().T.head(50)"
   ]
  },
  {
   "cell_type": "code",
   "execution_count": 28,
   "metadata": {},
   "outputs": [],
   "source": [
    "df_ohc['demo'] = df_concat2['labels_hc2']"
   ]
  },
  {
   "cell_type": "markdown",
   "metadata": {},
   "source": [
    "## Evaluation"
   ]
  },
  {
   "cell_type": "markdown",
   "metadata": {},
   "source": [
    "### Perspective 1: Customer Value"
   ]
  },
  {
   "cell_type": "markdown",
   "metadata": {},
   "source": [
    "* Silhouette Score"
   ]
  },
  {
   "cell_type": "code",
   "execution_count": 29,
   "metadata": {},
   "outputs": [],
   "source": [
    "def silhouette(X, algorithm):\n",
    "    range_n_clusters = [2]\n",
    "    silhouette_scores = []\n",
    "\n",
    "    for n_clusters in range_n_clusters:\n",
    "        clusterer = algorithm(n_clusters=n_clusters)\n",
    "        cluster_labels = clusterer.fit_predict(X)\n",
    "\n",
    "        silhouette_avg = silhouette_score(X, cluster_labels)\n",
    "        silhouette_scores.append(silhouette_avg)\n",
    "\n",
    "        print(\"For n_clusters =\", n_clusters,\n",
    "              \"The average silhouette_score is :\", silhouette_avg)\n",
    "\n",
    "    return silhouette_scores"
   ]
  },
  {
   "cell_type": "code",
   "execution_count": 30,
   "metadata": {},
   "outputs": [
    {
     "name": "stdout",
     "output_type": "stream",
     "text": [
      "For n_clusters = 2 The average silhouette_score is : 0.4322498885050029\n"
     ]
    }
   ],
   "source": [
    "custval_hc = df_concat1.copy()\n",
    "custval_hc['labels_hc1'] = hc1.labels_\n",
    "\n",
    "cluster0 = custval_hc[custval_hc.labels_hc1 == 0]\n",
    "cluster1 = custval_hc[custval_hc.labels_hc1 == 1]\n",
    "s_hc1 = custval_hc.iloc[:, 1:-1].values\n",
    "\n",
    "hc_silhouette = silhouette(s_hc1, AgglomerativeClustering)"
   ]
  },
  {
   "cell_type": "markdown",
   "metadata": {},
   "source": [
    "* R^2"
   ]
  },
  {
   "cell_type": "code",
   "execution_count": 31,
   "metadata": {
    "code_folding": []
   },
   "outputs": [],
   "source": [
    "def get_ss(df):\n",
    "    ss = np.sum(df.var() * (df.count() - 1))\n",
    "    return ss"
   ]
  },
  {
   "cell_type": "code",
   "execution_count": 32,
   "metadata": {},
   "outputs": [
    {
     "name": "stdout",
     "output_type": "stream",
     "text": [
      "Cluster solution with R^2 of 0.5692\n"
     ]
    }
   ],
   "source": [
    "sst = get_ss(cust_val)  \n",
    "ssw_labels = df_concat1.groupby(by='labels_hc1').apply(\n",
    "    get_ss)  \n",
    "ssb = sst - np.sum(ssw_labels)  \n",
    "r2 = ssb / sst\n",
    "print(\"Cluster solution with R^2 of %0.4f\" % r2)"
   ]
  },
  {
   "cell_type": "markdown",
   "metadata": {},
   "source": [
    "### Perspective 2: Customer Demography"
   ]
  },
  {
   "cell_type": "markdown",
   "metadata": {},
   "source": [
    "* Silhouette Score"
   ]
  },
  {
   "cell_type": "code",
   "execution_count": 33,
   "metadata": {},
   "outputs": [],
   "source": [
    "def silhouette(X, algorithm):\n",
    "    range_n_clusters = [5]\n",
    "    silhouette_scores = []\n",
    "\n",
    "    for n_clusters in range_n_clusters:\n",
    "        clusterer = algorithm(n_clusters=n_clusters)\n",
    "        cluster_labels = clusterer.fit_predict(X)\n",
    "\n",
    "        silhouette_avg = silhouette_score(X, cluster_labels)\n",
    "        silhouette_scores.append(silhouette_avg)\n",
    "\n",
    "        print(\"For n_clusters =\", n_clusters,\n",
    "              \"The average silhouette_score is :\", silhouette_avg)\n",
    "\n",
    "    return silhouette_scores"
   ]
  },
  {
   "cell_type": "code",
   "execution_count": 34,
   "metadata": {},
   "outputs": [
    {
     "name": "stdout",
     "output_type": "stream",
     "text": [
      "For n_clusters = 5 The average silhouette_score is : 0.7780757157845202\n"
     ]
    }
   ],
   "source": [
    "demo_hc = df_concat2.copy()\n",
    "demo_hc['labels_hc2'] = hc2.labels_\n",
    "\n",
    "cluster0 = demo_hc[demo_hc.labels_hc2 == 0]\n",
    "cluster1 = demo_hc[demo_hc.labels_hc2 == 1]\n",
    "cluster2 = demo_hc[demo_hc.labels_hc2 == 2]\n",
    "cluster3 = demo_hc[demo_hc.labels_hc2 == 3]\n",
    "cluster4 = demo_hc[demo_hc.labels_hc2 == 4]\n",
    "\n",
    "s_hc2 = demo_hc.iloc[:, 1:-1].values\n",
    "\n",
    "hc_silhouette = silhouette(s_hc2, AgglomerativeClustering)"
   ]
  },
  {
   "cell_type": "markdown",
   "metadata": {},
   "source": [
    "* R^2"
   ]
  },
  {
   "cell_type": "code",
   "execution_count": 35,
   "metadata": {},
   "outputs": [],
   "source": [
    "def get_ss(df):\n",
    "    ss = np.sum(df.var() * (df.count() - 1))\n",
    "    return ss"
   ]
  },
  {
   "cell_type": "code",
   "execution_count": 36,
   "metadata": {
    "scrolled": true
   },
   "outputs": [
    {
     "name": "stdout",
     "output_type": "stream",
     "text": [
      "Cluster solution with R^2 of 0.4526\n"
     ]
    }
   ],
   "source": [
    "sst = get_ss(demo) \n",
    "ssw_labels = df_concat2.groupby(by='labels_hc2').apply(\n",
    "    get_ss)  \n",
    "ssb = sst - np.sum(ssw_labels)  \n",
    "r2 = ssb / sst\n",
    "print(\"Cluster solution with R^2 of %0.4f\" % r2)"
   ]
  }
 ],
 "metadata": {
  "kernelspec": {
   "display_name": "Python 3",
   "language": "python",
   "name": "python3"
  },
  "language_info": {
   "codemirror_mode": {
    "name": "ipython",
    "version": 3
   },
   "file_extension": ".py",
   "mimetype": "text/x-python",
   "name": "python",
   "nbconvert_exporter": "python",
   "pygments_lexer": "ipython3",
   "version": "3.7.6"
  },
  "toc": {
   "base_numbering": 1,
   "nav_menu": {},
   "number_sections": true,
   "sideBar": true,
   "skip_h1_title": false,
   "title_cell": "Table of Contents",
   "title_sidebar": "Contents",
   "toc_cell": false,
   "toc_position": {
    "height": "calc(100% - 180px)",
    "left": "10px",
    "top": "150px",
    "width": "219px"
   },
   "toc_section_display": true,
   "toc_window_display": true
  }
 },
 "nbformat": 4,
 "nbformat_minor": 5
}
