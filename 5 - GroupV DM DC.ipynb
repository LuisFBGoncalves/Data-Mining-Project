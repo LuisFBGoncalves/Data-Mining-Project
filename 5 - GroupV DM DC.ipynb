{
 "cells": [
  {
   "cell_type": "markdown",
   "metadata": {},
   "source": [
    "<center> <font size=\"6\"> <div class=\"alert alert-block alert-success\"> <strong> A2Z Insurance Customer Segmentation Project \n",
    "</strong> </div> </font> </center>"
   ]
  },
  {
   "cell_type": "markdown",
   "metadata": {},
   "source": [
    "<center> <font size=\"4\"> <div class=\"alert alert-block alert-success\"> <strong> Density Clustering\n",
    "</strong> </div> </font> </center>"
   ]
  },
  {
   "cell_type": "code",
   "execution_count": 1,
   "metadata": {},
   "outputs": [],
   "source": [
    "import warnings\n",
    "warnings.filterwarnings('ignore')\n",
    "\n",
    "#!pip install sas7bdat\n",
    "\n",
    "import sqlite3\n",
    "import os\n",
    "import pandas as pd\n",
    "import numpy as np\n",
    "import matplotlib.pyplot as plt\n",
    "import matplotlib.cm as cm\n",
    "import seaborn as sns\n",
    "from math import ceil\n",
    "\n",
    "from sklearn.impute import KNNImputer\n",
    "\n",
    "from sklearn.preprocessing import MinMaxScaler, StandardScaler, OneHotEncoder\n",
    "\n",
    "from sklearn.decomposition import PCA\n",
    "\n",
    "from sklearn.metrics import silhouette_score, silhouette_samples\n",
    "from sklearn.cluster import KMeans, AgglomerativeClustering\n",
    "from sklearn.neighbors import KNeighborsClassifier\n",
    "from scipy.cluster.hierarchy import dendrogram\n",
    "\n",
    "from matplotlib.lines import Line2D\n",
    "import seaborn as sns\n",
    "\n",
    "from matplotlib import __version__ as mplver\n",
    "plt.rcParams['figure.dpi'] = 50\n",
    "\n",
    "from sklearn.neighbors import NearestNeighbors\n",
    "from sklearn.mixture import GaussianMixture\n",
    "from sklearn.cluster import MeanShift, DBSCAN, estimate_bandwidth"
   ]
  },
  {
   "cell_type": "code",
   "execution_count": 2,
   "metadata": {},
   "outputs": [],
   "source": [
    "def get_ss(df):\n",
    "    ss = np.sum(df.var() * (df.count() - 1))\n",
    "    return ss"
   ]
  },
  {
   "cell_type": "markdown",
   "metadata": {},
   "source": [
    "## Import Data"
   ]
  },
  {
   "cell_type": "code",
   "execution_count": 3,
   "metadata": {},
   "outputs": [],
   "source": [
    "#import pre-proc dataset\n",
    "df_ohc=pd.read_csv('preproc_data.csv')\n",
    "df_ohc = df_ohc.rename(columns={\"x0_b'2 - High School'\":'High School', \n",
    "                              \"x0_b'3 - BSc/MSc'\":'BSc/MSc', \n",
    "                              \"x0_b'4 - PhD'\":'PhD', \n",
    "                              'x1_Diamond':'Diamond', \n",
    "                              'x1_Gold':'Gold', \n",
    "                              'x1_Silver':'Silver',\n",
    "                              })"
   ]
  },
  {
   "cell_type": "code",
   "execution_count": 4,
   "metadata": {},
   "outputs": [],
   "source": [
    "#define perspectives\n",
    "demo =  df_ohc[['High School', 'BSc/MSc', 'PhD',\n",
    "       'MonthSal','GeoLivArea', 'Children']].copy()\n",
    "\n",
    "cust_val =  df_ohc[['CustMonVal','Client Tenure', 'Total Premium']].copy()"
   ]
  },
  {
   "cell_type": "markdown",
   "metadata": {},
   "source": [
    "## Density Clustering"
   ]
  },
  {
   "cell_type": "markdown",
   "metadata": {},
   "source": [
    "### Perspective 1: Customer Value"
   ]
  },
  {
   "cell_type": "markdown",
   "metadata": {},
   "source": [
    "#### Mean Shift Clustering"
   ]
  },
  {
   "cell_type": "code",
   "execution_count": 5,
   "metadata": {},
   "outputs": [
    {
     "name": "stdout",
     "output_type": "stream",
     "text": [
      "Number of estimated clusters : 5\n"
     ]
    }
   ],
   "source": [
    "bandwidth = estimate_bandwidth(cust_val, quantile=0.30, random_state=1, n_jobs=-1)\n",
    "ms = MeanShift(bandwidth=bandwidth, bin_seeding=True, n_jobs=4)\n",
    "ms_labels = ms.fit_predict(cust_val)\n",
    "ms_n_clusters = len(np.unique(ms_labels))\n",
    "print(\"Number of estimated clusters : %d\" % ms_n_clusters)"
   ]
  },
  {
   "cell_type": "code",
   "execution_count": 6,
   "metadata": {
    "scrolled": true
   },
   "outputs": [
    {
     "data": {
      "text/html": [
       "<div>\n",
       "<style scoped>\n",
       "    .dataframe tbody tr th:only-of-type {\n",
       "        vertical-align: middle;\n",
       "    }\n",
       "\n",
       "    .dataframe tbody tr th {\n",
       "        vertical-align: top;\n",
       "    }\n",
       "\n",
       "    .dataframe thead th {\n",
       "        text-align: right;\n",
       "    }\n",
       "</style>\n",
       "<table border=\"1\" class=\"dataframe\">\n",
       "  <thead>\n",
       "    <tr style=\"text-align: right;\">\n",
       "      <th></th>\n",
       "      <th>CustMonVal</th>\n",
       "      <th>Client Tenure</th>\n",
       "      <th>Total Premium</th>\n",
       "    </tr>\n",
       "    <tr>\n",
       "      <th>ms_labels</th>\n",
       "      <th></th>\n",
       "      <th></th>\n",
       "      <th></th>\n",
       "    </tr>\n",
       "  </thead>\n",
       "  <tbody>\n",
       "    <tr>\n",
       "      <th>0</th>\n",
       "      <td>0.891270</td>\n",
       "      <td>0.421776</td>\n",
       "      <td>0.176713</td>\n",
       "    </tr>\n",
       "    <tr>\n",
       "      <th>1</th>\n",
       "      <td>0.300509</td>\n",
       "      <td>0.179487</td>\n",
       "      <td>0.161159</td>\n",
       "    </tr>\n",
       "    <tr>\n",
       "      <th>2</th>\n",
       "      <td>0.883831</td>\n",
       "      <td>0.864733</td>\n",
       "      <td>0.131542</td>\n",
       "    </tr>\n",
       "    <tr>\n",
       "      <th>3</th>\n",
       "      <td>0.883556</td>\n",
       "      <td>0.967289</td>\n",
       "      <td>0.137011</td>\n",
       "    </tr>\n",
       "    <tr>\n",
       "      <th>4</th>\n",
       "      <td>0.000000</td>\n",
       "      <td>0.692308</td>\n",
       "      <td>0.094871</td>\n",
       "    </tr>\n",
       "  </tbody>\n",
       "</table>\n",
       "</div>"
      ],
      "text/plain": [
       "           CustMonVal  Client Tenure  Total Premium\n",
       "ms_labels                                          \n",
       "0            0.891270       0.421776       0.176713\n",
       "1            0.300509       0.179487       0.161159\n",
       "2            0.883831       0.864733       0.131542\n",
       "3            0.883556       0.967289       0.137011\n",
       "4            0.000000       0.692308       0.094871"
      ]
     },
     "execution_count": 6,
     "metadata": {},
     "output_type": "execute_result"
    }
   ],
   "source": [
    "df_concat_ms = pd.concat([cust_val, pd.Series(ms_labels, index=cust_val.index, name=\"ms_labels\")], axis=1)\n",
    "df_concat_ms.groupby('ms_labels').mean()"
   ]
  },
  {
   "cell_type": "markdown",
   "metadata": {},
   "source": [
    "#### DBSCAN (Density-based spatial clustering of applications with noise)"
   ]
  },
  {
   "cell_type": "code",
   "execution_count": 7,
   "metadata": {},
   "outputs": [
    {
     "data": {
      "image/png": "[encoded data removed]",
      "text/plain": [
       "<Figure size 300x200 with 1 Axes>"
      ]
     },
     "metadata": {
      "needs_background": "light"
     },
     "output_type": "display_data"
    }
   ],
   "source": [
    "neigh = NearestNeighbors(n_neighbors=27)\n",
    "neigh.fit(cust_val)\n",
    "distances, _ = neigh.kneighbors(cust_val)\n",
    "distances = np.sort(distances[:, -1])\n",
    "plt.plot(distances[10000:])\n",
    "plt.show()"
   ]
  },
  {
   "cell_type": "code",
   "execution_count": 8,
   "metadata": {},
   "outputs": [
    {
     "data": {
      "image/png": "[encoded data removed]",
      "text/plain": [
       "<Figure size 300x200 with 1 Axes>"
      ]
     },
     "metadata": {
      "needs_background": "light"
     },
     "output_type": "display_data"
    }
   ],
   "source": [
    "plt.plot(distances[10000:])\n",
    "plt.axis([220, 225, 0.1, 0.2])\n",
    "plt.show()"
   ]
  },
  {
   "cell_type": "code",
   "execution_count": 9,
   "metadata": {},
   "outputs": [
    {
     "name": "stdout",
     "output_type": "stream",
     "text": [
      "Number of estimated clusters : 2\n"
     ]
    }
   ],
   "source": [
    "dbscan = DBSCAN(eps=0.17, n_jobs=4)\n",
    "dbscan_labels = dbscan.fit_predict(cust_val)\n",
    "\n",
    "dbscan_n_clusters = len(np.unique(dbscan_labels))\n",
    "print(\"Number of estimated clusters : %d\" % dbscan_n_clusters)"
   ]
  },
  {
   "cell_type": "code",
   "execution_count": 10,
   "metadata": {},
   "outputs": [
    {
     "data": {
      "text/html": [
       "<div>\n",
       "<style scoped>\n",
       "    .dataframe tbody tr th:only-of-type {\n",
       "        vertical-align: middle;\n",
       "    }\n",
       "\n",
       "    .dataframe tbody tr th {\n",
       "        vertical-align: top;\n",
       "    }\n",
       "\n",
       "    .dataframe thead th {\n",
       "        text-align: right;\n",
       "    }\n",
       "</style>\n",
       "<table border=\"1\" class=\"dataframe\">\n",
       "  <thead>\n",
       "    <tr style=\"text-align: right;\">\n",
       "      <th></th>\n",
       "      <th>CustMonVal</th>\n",
       "      <th>Client Tenure</th>\n",
       "      <th>Total Premium</th>\n",
       "      <th>dbscan_labels</th>\n",
       "    </tr>\n",
       "  </thead>\n",
       "  <tbody>\n",
       "    <tr>\n",
       "      <th>0</th>\n",
       "      <td>0.900222</td>\n",
       "      <td>0.576923</td>\n",
       "      <td>0.126701</td>\n",
       "      <td>0</td>\n",
       "    </tr>\n",
       "    <tr>\n",
       "      <th>1</th>\n",
       "      <td>0.869682</td>\n",
       "      <td>0.192308</td>\n",
       "      <td>0.251557</td>\n",
       "      <td>0</td>\n",
       "    </tr>\n",
       "    <tr>\n",
       "      <th>2</th>\n",
       "      <td>0.907599</td>\n",
       "      <td>0.346154</td>\n",
       "      <td>0.164880</td>\n",
       "      <td>0</td>\n",
       "    </tr>\n",
       "    <tr>\n",
       "      <th>3</th>\n",
       "      <td>0.876488</td>\n",
       "      <td>0.384615</td>\n",
       "      <td>0.093691</td>\n",
       "      <td>0</td>\n",
       "    </tr>\n",
       "    <tr>\n",
       "      <th>4</th>\n",
       "      <td>0.879603</td>\n",
       "      <td>0.538462</td>\n",
       "      <td>0.108222</td>\n",
       "      <td>0</td>\n",
       "    </tr>\n",
       "  </tbody>\n",
       "</table>\n",
       "</div>"
      ],
      "text/plain": [
       "   CustMonVal  Client Tenure  Total Premium  dbscan_labels\n",
       "0    0.900222       0.576923       0.126701              0\n",
       "1    0.869682       0.192308       0.251557              0\n",
       "2    0.907599       0.346154       0.164880              0\n",
       "3    0.876488       0.384615       0.093691              0\n",
       "4    0.879603       0.538462       0.108222              0"
      ]
     },
     "execution_count": 10,
     "metadata": {},
     "output_type": "execute_result"
    }
   ],
   "source": [
    "df_concat_dbscan = pd.concat([cust_val, pd.Series(dbscan_labels, index=cust_val.index, name=\"dbscan_labels\")], axis=1)\n",
    "df_concat_dbscan.head()"
   ]
  },
  {
   "cell_type": "code",
   "execution_count": 11,
   "metadata": {},
   "outputs": [
    {
     "data": {
      "text/html": [
       "<div>\n",
       "<style scoped>\n",
       "    .dataframe tbody tr th:only-of-type {\n",
       "        vertical-align: middle;\n",
       "    }\n",
       "\n",
       "    .dataframe tbody tr th {\n",
       "        vertical-align: top;\n",
       "    }\n",
       "\n",
       "    .dataframe thead th {\n",
       "        text-align: right;\n",
       "    }\n",
       "</style>\n",
       "<table border=\"1\" class=\"dataframe\">\n",
       "  <thead>\n",
       "    <tr style=\"text-align: right;\">\n",
       "      <th></th>\n",
       "      <th>CustMonVal</th>\n",
       "      <th>Client Tenure</th>\n",
       "      <th>Total Premium</th>\n",
       "      <th>dbscan_labels</th>\n",
       "    </tr>\n",
       "  </thead>\n",
       "  <tbody>\n",
       "    <tr>\n",
       "      <th>51</th>\n",
       "      <td>0.000000</td>\n",
       "      <td>0.692308</td>\n",
       "      <td>0.094871</td>\n",
       "      <td>-1</td>\n",
       "    </tr>\n",
       "    <tr>\n",
       "      <th>112</th>\n",
       "      <td>0.357525</td>\n",
       "      <td>0.115385</td>\n",
       "      <td>0.090012</td>\n",
       "      <td>-1</td>\n",
       "    </tr>\n",
       "    <tr>\n",
       "      <th>135</th>\n",
       "      <td>0.269271</td>\n",
       "      <td>0.115385</td>\n",
       "      <td>0.163170</td>\n",
       "      <td>-1</td>\n",
       "    </tr>\n",
       "    <tr>\n",
       "      <th>752</th>\n",
       "      <td>0.274730</td>\n",
       "      <td>0.307692</td>\n",
       "      <td>0.230294</td>\n",
       "      <td>-1</td>\n",
       "    </tr>\n",
       "    <tr>\n",
       "      <th>787</th>\n",
       "      <td>0.409282</td>\n",
       "      <td>0.653846</td>\n",
       "      <td>0.096743</td>\n",
       "      <td>-1</td>\n",
       "    </tr>\n",
       "    <tr>\n",
       "      <th>974</th>\n",
       "      <td>0.512772</td>\n",
       "      <td>0.423077</td>\n",
       "      <td>0.137446</td>\n",
       "      <td>-1</td>\n",
       "    </tr>\n",
       "    <tr>\n",
       "      <th>8380</th>\n",
       "      <td>0.873844</td>\n",
       "      <td>0.153846</td>\n",
       "      <td>1.000000</td>\n",
       "      <td>-1</td>\n",
       "    </tr>\n",
       "  </tbody>\n",
       "</table>\n",
       "</div>"
      ],
      "text/plain": [
       "      CustMonVal  Client Tenure  Total Premium  dbscan_labels\n",
       "51      0.000000       0.692308       0.094871             -1\n",
       "112     0.357525       0.115385       0.090012             -1\n",
       "135     0.269271       0.115385       0.163170             -1\n",
       "752     0.274730       0.307692       0.230294             -1\n",
       "787     0.409282       0.653846       0.096743             -1\n",
       "974     0.512772       0.423077       0.137446             -1\n",
       "8380    0.873844       0.153846       1.000000             -1"
      ]
     },
     "execution_count": 11,
     "metadata": {},
     "output_type": "execute_result"
    }
   ],
   "source": [
    "df_concat_dbscan.loc[df_concat_dbscan['dbscan_labels'] == -1]"
   ]
  },
  {
   "cell_type": "markdown",
   "metadata": {},
   "source": [
    "#### GMM (Gaussian Mixture Model )"
   ]
  },
  {
   "cell_type": "code",
   "execution_count": 12,
   "metadata": {},
   "outputs": [
    {
     "data": {
      "image/png": "[encoded data removed]",
      "text/plain": [
       "<Figure size 300x200 with 1 Axes>"
      ]
     },
     "metadata": {
      "needs_background": "light"
     },
     "output_type": "display_data"
    }
   ],
   "source": [
    "n_components = np.arange(1, 16)\n",
    "models = [GaussianMixture(n, covariance_type='full', n_init=10, random_state=1).fit(cust_val)\n",
    "          for n in n_components]\n",
    "\n",
    "bic_values = [m.bic(cust_val) for m in models]\n",
    "aic_values = [m.aic(cust_val) for m in models]\n",
    "plt.plot(n_components, bic_values, label='BIC')\n",
    "plt.plot(n_components, aic_values, label='AIC')\n",
    "plt.legend(loc='best')\n",
    "plt.xlabel('n_components')\n",
    "plt.xticks(n_components)\n",
    "plt.show()"
   ]
  },
  {
   "cell_type": "code",
   "execution_count": 13,
   "metadata": {},
   "outputs": [],
   "source": [
    "gmm = GaussianMixture(n_components=2, covariance_type='full', n_init=10, init_params='kmeans', random_state=1)\n",
    "gmm_labels = gmm.fit_predict(cust_val)\n",
    "labels_proba = gmm.predict_proba(cust_val)"
   ]
  },
  {
   "cell_type": "code",
   "execution_count": 14,
   "metadata": {},
   "outputs": [
    {
     "name": "stdout",
     "output_type": "stream",
     "text": [
      "Estimated Weights: [0.8650579 0.1349421]\n",
      "\n",
      "Estimated Mean Vectors: [[0.88898145 0.49942353 0.14245519]\n",
      " [0.897538   0.3280898  0.35845966]]\n",
      "\n",
      "Estimated Covariance Matrix Components: (2, 3, 3)\n"
     ]
    }
   ],
   "source": [
    "print('Estimated Weights:', gmm.weights_)\n",
    "print()\n",
    "\n",
    "print('Estimated Mean Vectors:', gmm.means_)\n",
    "print()\n",
    "\n",
    "print('Estimated Covariance Matrix Components:', gmm.covariances_.shape)"
   ]
  },
  {
   "cell_type": "code",
   "execution_count": 15,
   "metadata": {
    "scrolled": true
   },
   "outputs": [
    {
     "data": {
      "text/html": [
       "<div>\n",
       "<style scoped>\n",
       "    .dataframe tbody tr th:only-of-type {\n",
       "        vertical-align: middle;\n",
       "    }\n",
       "\n",
       "    .dataframe tbody tr th {\n",
       "        vertical-align: top;\n",
       "    }\n",
       "\n",
       "    .dataframe thead th {\n",
       "        text-align: right;\n",
       "    }\n",
       "</style>\n",
       "<table border=\"1\" class=\"dataframe\">\n",
       "  <thead>\n",
       "    <tr style=\"text-align: right;\">\n",
       "      <th></th>\n",
       "      <th>gmm_labels</th>\n",
       "      <th>0</th>\n",
       "      <th>1</th>\n",
       "    </tr>\n",
       "  </thead>\n",
       "  <tbody>\n",
       "    <tr>\n",
       "      <th rowspan=\"8\" valign=\"top\">CustMonVal</th>\n",
       "      <th>count</th>\n",
       "      <td>8991.000000</td>\n",
       "      <td>1250.000000</td>\n",
       "    </tr>\n",
       "    <tr>\n",
       "      <th>mean</th>\n",
       "      <td>0.888985</td>\n",
       "      <td>0.898416</td>\n",
       "    </tr>\n",
       "    <tr>\n",
       "      <th>std</th>\n",
       "      <td>0.012695</td>\n",
       "      <td>0.050154</td>\n",
       "    </tr>\n",
       "    <tr>\n",
       "      <th>min</th>\n",
       "      <td>0.852649</td>\n",
       "      <td>0.000000</td>\n",
       "    </tr>\n",
       "    <tr>\n",
       "      <th>25%</th>\n",
       "      <td>0.876886</td>\n",
       "      <td>0.878205</td>\n",
       "    </tr>\n",
       "    <tr>\n",
       "      <th>50%</th>\n",
       "      <td>0.888133</td>\n",
       "      <td>0.900466</td>\n",
       "    </tr>\n",
       "    <tr>\n",
       "      <th>75%</th>\n",
       "      <td>0.900016</td>\n",
       "      <td>0.921733</td>\n",
       "    </tr>\n",
       "    <tr>\n",
       "      <th>max</th>\n",
       "      <td>0.926473</td>\n",
       "      <td>1.000000</td>\n",
       "    </tr>\n",
       "    <tr>\n",
       "      <th rowspan=\"8\" valign=\"top\">Client Tenure</th>\n",
       "      <th>count</th>\n",
       "      <td>8991.000000</td>\n",
       "      <td>1250.000000</td>\n",
       "    </tr>\n",
       "    <tr>\n",
       "      <th>mean</th>\n",
       "      <td>0.497599</td>\n",
       "      <td>0.323126</td>\n",
       "    </tr>\n",
       "    <tr>\n",
       "      <th>std</th>\n",
       "      <td>0.245952</td>\n",
       "      <td>0.231633</td>\n",
       "    </tr>\n",
       "    <tr>\n",
       "      <th>min</th>\n",
       "      <td>0.000000</td>\n",
       "      <td>0.000000</td>\n",
       "    </tr>\n",
       "    <tr>\n",
       "      <th>25%</th>\n",
       "      <td>0.307692</td>\n",
       "      <td>0.153846</td>\n",
       "    </tr>\n",
       "    <tr>\n",
       "      <th>50%</th>\n",
       "      <td>0.461538</td>\n",
       "      <td>0.269231</td>\n",
       "    </tr>\n",
       "    <tr>\n",
       "      <th>75%</th>\n",
       "      <td>0.692308</td>\n",
       "      <td>0.423077</td>\n",
       "    </tr>\n",
       "    <tr>\n",
       "      <th>max</th>\n",
       "      <td>1.000000</td>\n",
       "      <td>1.000000</td>\n",
       "    </tr>\n",
       "    <tr>\n",
       "      <th rowspan=\"8\" valign=\"top\">Total Premium</th>\n",
       "      <th>count</th>\n",
       "      <td>8991.000000</td>\n",
       "      <td>1250.000000</td>\n",
       "    </tr>\n",
       "    <tr>\n",
       "      <th>mean</th>\n",
       "      <td>0.143199</td>\n",
       "      <td>0.375906</td>\n",
       "    </tr>\n",
       "    <tr>\n",
       "      <th>std</th>\n",
       "      <td>0.054041</td>\n",
       "      <td>0.095170</td>\n",
       "    </tr>\n",
       "    <tr>\n",
       "      <th>min</th>\n",
       "      <td>0.000000</td>\n",
       "      <td>0.077628</td>\n",
       "    </tr>\n",
       "    <tr>\n",
       "      <th>25%</th>\n",
       "      <td>0.102592</td>\n",
       "      <td>0.309411</td>\n",
       "    </tr>\n",
       "    <tr>\n",
       "      <th>50%</th>\n",
       "      <td>0.133824</td>\n",
       "      <td>0.352823</td>\n",
       "    </tr>\n",
       "    <tr>\n",
       "      <th>75%</th>\n",
       "      <td>0.177729</td>\n",
       "      <td>0.416835</td>\n",
       "    </tr>\n",
       "    <tr>\n",
       "      <th>max</th>\n",
       "      <td>0.312896</td>\n",
       "      <td>1.000000</td>\n",
       "    </tr>\n",
       "  </tbody>\n",
       "</table>\n",
       "</div>"
      ],
      "text/plain": [
       "gmm_labels                     0            1\n",
       "CustMonVal    count  8991.000000  1250.000000\n",
       "              mean      0.888985     0.898416\n",
       "              std       0.012695     0.050154\n",
       "              min       0.852649     0.000000\n",
       "              25%       0.876886     0.878205\n",
       "              50%       0.888133     0.900466\n",
       "              75%       0.900016     0.921733\n",
       "              max       0.926473     1.000000\n",
       "Client Tenure count  8991.000000  1250.000000\n",
       "              mean      0.497599     0.323126\n",
       "              std       0.245952     0.231633\n",
       "              min       0.000000     0.000000\n",
       "              25%       0.307692     0.153846\n",
       "              50%       0.461538     0.269231\n",
       "              75%       0.692308     0.423077\n",
       "              max       1.000000     1.000000\n",
       "Total Premium count  8991.000000  1250.000000\n",
       "              mean      0.143199     0.375906\n",
       "              std       0.054041     0.095170\n",
       "              min       0.000000     0.077628\n",
       "              25%       0.102592     0.309411\n",
       "              50%       0.133824     0.352823\n",
       "              75%       0.177729     0.416835\n",
       "              max       0.312896     1.000000"
      ]
     },
     "execution_count": 15,
     "metadata": {},
     "output_type": "execute_result"
    }
   ],
   "source": [
    "df_concat_gmm = pd.concat([cust_val, pd.Series(gmm_labels, index=cust_val.index, name=\"gmm_labels\")], axis=1)\n",
    "df_concat_gmm.head()\n",
    "df_concat_gmm.groupby('gmm_labels').describe().T"
   ]
  },
  {
   "cell_type": "markdown",
   "metadata": {},
   "source": [
    "### Perspective 2: Customer Demography"
   ]
  },
  {
   "cell_type": "markdown",
   "metadata": {},
   "source": [
    "#### Mean Shift Clustering"
   ]
  },
  {
   "cell_type": "code",
   "execution_count": 16,
   "metadata": {},
   "outputs": [
    {
     "name": "stdout",
     "output_type": "stream",
     "text": [
      "Number of estimated clusters : 8\n"
     ]
    }
   ],
   "source": [
    "bandwidth = estimate_bandwidth(demo, quantile=0.20, random_state=1, n_jobs=-1)\n",
    "ms = MeanShift(bandwidth=bandwidth, bin_seeding=True, n_jobs=4)\n",
    "ms_labels = ms.fit_predict(demo)\n",
    "ms_n_clusters = len(np.unique(ms_labels))\n",
    "print(\"Number of estimated clusters : %d\" % ms_n_clusters)"
   ]
  },
  {
   "cell_type": "code",
   "execution_count": 17,
   "metadata": {},
   "outputs": [
    {
     "data": {
      "text/html": [
       "<div>\n",
       "<style scoped>\n",
       "    .dataframe tbody tr th:only-of-type {\n",
       "        vertical-align: middle;\n",
       "    }\n",
       "\n",
       "    .dataframe tbody tr th {\n",
       "        vertical-align: top;\n",
       "    }\n",
       "\n",
       "    .dataframe thead th {\n",
       "        text-align: right;\n",
       "    }\n",
       "</style>\n",
       "<table border=\"1\" class=\"dataframe\">\n",
       "  <thead>\n",
       "    <tr style=\"text-align: right;\">\n",
       "      <th></th>\n",
       "      <th>High School</th>\n",
       "      <th>BSc/MSc</th>\n",
       "      <th>PhD</th>\n",
       "      <th>MonthSal</th>\n",
       "      <th>GeoLivArea</th>\n",
       "      <th>Children</th>\n",
       "      <th>ms_labels2</th>\n",
       "    </tr>\n",
       "  </thead>\n",
       "  <tbody>\n",
       "    <tr>\n",
       "      <th>0</th>\n",
       "      <td>1.0</td>\n",
       "      <td>0.0</td>\n",
       "      <td>0.0</td>\n",
       "      <td>0.393345</td>\n",
       "      <td>0.000000</td>\n",
       "      <td>1.0</td>\n",
       "      <td>1</td>\n",
       "    </tr>\n",
       "    <tr>\n",
       "      <th>1</th>\n",
       "      <td>1.0</td>\n",
       "      <td>0.0</td>\n",
       "      <td>0.0</td>\n",
       "      <td>0.073379</td>\n",
       "      <td>1.000000</td>\n",
       "      <td>1.0</td>\n",
       "      <td>1</td>\n",
       "    </tr>\n",
       "    <tr>\n",
       "      <th>2</th>\n",
       "      <td>0.0</td>\n",
       "      <td>0.0</td>\n",
       "      <td>0.0</td>\n",
       "      <td>0.414676</td>\n",
       "      <td>0.666667</td>\n",
       "      <td>0.0</td>\n",
       "      <td>6</td>\n",
       "    </tr>\n",
       "    <tr>\n",
       "      <th>3</th>\n",
       "      <td>0.0</td>\n",
       "      <td>1.0</td>\n",
       "      <td>0.0</td>\n",
       "      <td>0.163396</td>\n",
       "      <td>1.000000</td>\n",
       "      <td>1.0</td>\n",
       "      <td>0</td>\n",
       "    </tr>\n",
       "    <tr>\n",
       "      <th>4</th>\n",
       "      <td>0.0</td>\n",
       "      <td>1.0</td>\n",
       "      <td>0.0</td>\n",
       "      <td>0.305034</td>\n",
       "      <td>1.000000</td>\n",
       "      <td>1.0</td>\n",
       "      <td>0</td>\n",
       "    </tr>\n",
       "  </tbody>\n",
       "</table>\n",
       "</div>"
      ],
      "text/plain": [
       "   High School  BSc/MSc  PhD  MonthSal  GeoLivArea  Children  ms_labels2\n",
       "0          1.0      0.0  0.0  0.393345    0.000000       1.0           1\n",
       "1          1.0      0.0  0.0  0.073379    1.000000       1.0           1\n",
       "2          0.0      0.0  0.0  0.414676    0.666667       0.0           6\n",
       "3          0.0      1.0  0.0  0.163396    1.000000       1.0           0\n",
       "4          0.0      1.0  0.0  0.305034    1.000000       1.0           0"
      ]
     },
     "execution_count": 17,
     "metadata": {},
     "output_type": "execute_result"
    }
   ],
   "source": [
    "df_concat_ms2 = pd.concat([demo, pd.Series(ms_labels, index=demo.index, name=\"ms_labels2\")], axis=1)\n",
    "df_concat_ms2.head()"
   ]
  },
  {
   "cell_type": "markdown",
   "metadata": {},
   "source": [
    "#### DBSCAN (Density-based spatial clustering of applications with noise)"
   ]
  },
  {
   "cell_type": "code",
   "execution_count": 18,
   "metadata": {},
   "outputs": [
    {
     "data": {
      "image/png": "[encoded data removed]",
      "text/plain": [
       "<Figure size 300x200 with 1 Axes>"
      ]
     },
     "metadata": {
      "needs_background": "light"
     },
     "output_type": "display_data"
    }
   ],
   "source": [
    "neigh = NearestNeighbors(n_neighbors=27)\n",
    "neigh.fit(demo)\n",
    "distances, _ = neigh.kneighbors(demo)\n",
    "distances = np.sort(distances[:, -1])\n",
    "plt.plot(distances[10000:])\n",
    "plt.show()"
   ]
  },
  {
   "cell_type": "code",
   "execution_count": 19,
   "metadata": {
    "scrolled": true
   },
   "outputs": [
    {
     "data": {
      "image/png": "[encoded data removed]",
      "text/plain": [
       "<Figure size 300x200 with 1 Axes>"
      ]
     },
     "metadata": {
      "needs_background": "light"
     },
     "output_type": "display_data"
    }
   ],
   "source": [
    "plt.plot(distances[10000:])\n",
    "plt.axis([135, 150, 0.30, 0.35])\n",
    "plt.show()"
   ]
  },
  {
   "cell_type": "code",
   "execution_count": 20,
   "metadata": {},
   "outputs": [
    {
     "name": "stdout",
     "output_type": "stream",
     "text": [
      "Number of estimated clusters : 33\n"
     ]
    }
   ],
   "source": [
    "dbscan = DBSCAN(eps=0.32, n_jobs=4)\n",
    "dbscan_labels = dbscan.fit_predict(demo)\n",
    "dbscan_n_clusters = len(np.unique(dbscan_labels))\n",
    "print(\"Number of estimated clusters : %d\" % dbscan_n_clusters)"
   ]
  },
  {
   "cell_type": "code",
   "execution_count": 21,
   "metadata": {},
   "outputs": [
    {
     "data": {
      "text/html": [
       "<div>\n",
       "<style scoped>\n",
       "    .dataframe tbody tr th:only-of-type {\n",
       "        vertical-align: middle;\n",
       "    }\n",
       "\n",
       "    .dataframe tbody tr th {\n",
       "        vertical-align: top;\n",
       "    }\n",
       "\n",
       "    .dataframe thead th {\n",
       "        text-align: right;\n",
       "    }\n",
       "</style>\n",
       "<table border=\"1\" class=\"dataframe\">\n",
       "  <thead>\n",
       "    <tr style=\"text-align: right;\">\n",
       "      <th></th>\n",
       "      <th>High School</th>\n",
       "      <th>BSc/MSc</th>\n",
       "      <th>PhD</th>\n",
       "      <th>MonthSal</th>\n",
       "      <th>GeoLivArea</th>\n",
       "      <th>Children</th>\n",
       "      <th>dbscan_labels2</th>\n",
       "    </tr>\n",
       "  </thead>\n",
       "  <tbody>\n",
       "    <tr>\n",
       "      <th>0</th>\n",
       "      <td>1.0</td>\n",
       "      <td>0.0</td>\n",
       "      <td>0.0</td>\n",
       "      <td>0.393345</td>\n",
       "      <td>0.000000</td>\n",
       "      <td>1.0</td>\n",
       "      <td>0</td>\n",
       "    </tr>\n",
       "    <tr>\n",
       "      <th>1</th>\n",
       "      <td>1.0</td>\n",
       "      <td>0.0</td>\n",
       "      <td>0.0</td>\n",
       "      <td>0.073379</td>\n",
       "      <td>1.000000</td>\n",
       "      <td>1.0</td>\n",
       "      <td>1</td>\n",
       "    </tr>\n",
       "    <tr>\n",
       "      <th>2</th>\n",
       "      <td>0.0</td>\n",
       "      <td>0.0</td>\n",
       "      <td>0.0</td>\n",
       "      <td>0.414676</td>\n",
       "      <td>0.666667</td>\n",
       "      <td>0.0</td>\n",
       "      <td>2</td>\n",
       "    </tr>\n",
       "    <tr>\n",
       "      <th>3</th>\n",
       "      <td>0.0</td>\n",
       "      <td>1.0</td>\n",
       "      <td>0.0</td>\n",
       "      <td>0.163396</td>\n",
       "      <td>1.000000</td>\n",
       "      <td>1.0</td>\n",
       "      <td>3</td>\n",
       "    </tr>\n",
       "    <tr>\n",
       "      <th>4</th>\n",
       "      <td>0.0</td>\n",
       "      <td>1.0</td>\n",
       "      <td>0.0</td>\n",
       "      <td>0.305034</td>\n",
       "      <td>1.000000</td>\n",
       "      <td>1.0</td>\n",
       "      <td>3</td>\n",
       "    </tr>\n",
       "  </tbody>\n",
       "</table>\n",
       "</div>"
      ],
      "text/plain": [
       "   High School  BSc/MSc  PhD  MonthSal  GeoLivArea  Children  dbscan_labels2\n",
       "0          1.0      0.0  0.0  0.393345    0.000000       1.0               0\n",
       "1          1.0      0.0  0.0  0.073379    1.000000       1.0               1\n",
       "2          0.0      0.0  0.0  0.414676    0.666667       0.0               2\n",
       "3          0.0      1.0  0.0  0.163396    1.000000       1.0               3\n",
       "4          0.0      1.0  0.0  0.305034    1.000000       1.0               3"
      ]
     },
     "execution_count": 21,
     "metadata": {},
     "output_type": "execute_result"
    }
   ],
   "source": [
    "df_concat_dbscan2 = pd.concat([demo, pd.Series(dbscan_labels, index=demo.index, name=\"dbscan_labels2\")], axis=1)\n",
    "df_concat_dbscan2.head()"
   ]
  },
  {
   "cell_type": "code",
   "execution_count": 22,
   "metadata": {},
   "outputs": [
    {
     "data": {
      "text/html": [
       "<div>\n",
       "<style scoped>\n",
       "    .dataframe tbody tr th:only-of-type {\n",
       "        vertical-align: middle;\n",
       "    }\n",
       "\n",
       "    .dataframe tbody tr th {\n",
       "        vertical-align: top;\n",
       "    }\n",
       "\n",
       "    .dataframe thead th {\n",
       "        text-align: right;\n",
       "    }\n",
       "</style>\n",
       "<table border=\"1\" class=\"dataframe\">\n",
       "  <thead>\n",
       "    <tr style=\"text-align: right;\">\n",
       "      <th></th>\n",
       "      <th>High School</th>\n",
       "      <th>BSc/MSc</th>\n",
       "      <th>PhD</th>\n",
       "      <th>MonthSal</th>\n",
       "      <th>GeoLivArea</th>\n",
       "      <th>Children</th>\n",
       "      <th>dbscan_labels2</th>\n",
       "    </tr>\n",
       "  </thead>\n",
       "  <tbody>\n",
       "    <tr>\n",
       "      <th>295</th>\n",
       "      <td>0.0</td>\n",
       "      <td>0.0</td>\n",
       "      <td>1.0</td>\n",
       "      <td>0.694966</td>\n",
       "      <td>0.533333</td>\n",
       "      <td>0.4</td>\n",
       "      <td>-1</td>\n",
       "    </tr>\n",
       "  </tbody>\n",
       "</table>\n",
       "</div>"
      ],
      "text/plain": [
       "     High School  BSc/MSc  PhD  MonthSal  GeoLivArea  Children  dbscan_labels2\n",
       "295          0.0      0.0  1.0  0.694966    0.533333       0.4              -1"
      ]
     },
     "execution_count": 22,
     "metadata": {},
     "output_type": "execute_result"
    }
   ],
   "source": [
    "df_concat_dbscan2.loc[df_concat_dbscan2['dbscan_labels2'] == -1]"
   ]
  },
  {
   "cell_type": "markdown",
   "metadata": {},
   "source": [
    "#### GMM (Gaussian Mixture Model )"
   ]
  },
  {
   "cell_type": "code",
   "execution_count": 23,
   "metadata": {},
   "outputs": [
    {
     "data": {
      "image/png": "[encoded data removed]",
      "text/plain": [
       "<Figure size 300x200 with 1 Axes>"
      ]
     },
     "metadata": {
      "needs_background": "light"
     },
     "output_type": "display_data"
    }
   ],
   "source": [
    "n_components = np.arange(1, 16)\n",
    "models = [GaussianMixture(n, covariance_type='full', n_init=10, random_state=1).fit(demo)\n",
    "          for n in n_components]\n",
    "\n",
    "bic_values = [m.bic(demo) for m in models]\n",
    "aic_values = [m.aic(demo) for m in models]\n",
    "plt.plot(n_components, bic_values, label='BIC')\n",
    "plt.plot(n_components, aic_values, label='AIC')\n",
    "plt.legend(loc='best')\n",
    "plt.xlabel('n_components')\n",
    "plt.xticks(n_components)\n",
    "plt.show()"
   ]
  },
  {
   "cell_type": "code",
   "execution_count": 24,
   "metadata": {},
   "outputs": [],
   "source": [
    "gmm = GaussianMixture(n_components=4, covariance_type='full', n_init=10, init_params='kmeans', random_state=1)\n",
    "gmm_labels = gmm.fit_predict(demo)\n",
    "labels_proba = gmm.predict_proba(demo)"
   ]
  },
  {
   "cell_type": "code",
   "execution_count": 25,
   "metadata": {},
   "outputs": [
    {
     "name": "stdout",
     "output_type": "stream",
     "text": [
      "Estimated Weights: [0.13641246 0.34127527 0.33258471 0.18972757]\n",
      "\n",
      "Estimated Mean Vectors: [[0.         1.         0.         0.64675621 0.57981389 0.        ]\n",
      " [1.         0.         0.         0.46003572 0.57901764 0.70758226]\n",
      " [0.         1.         0.         0.4221085  0.55911137 0.99982384]\n",
      " [0.         0.         0.35923829 0.40678754 0.56400755 0.70386001]]\n",
      "\n",
      "Estimated Covariance Matrix Components: (4, 6, 6)\n"
     ]
    }
   ],
   "source": [
    "print('Estimated Weights:', gmm.weights_)\n",
    "print()\n",
    "\n",
    "print('Estimated Mean Vectors:', gmm.means_)\n",
    "print()\n",
    "\n",
    "print('Estimated Covariance Matrix Components:', gmm.covariances_.shape)"
   ]
  },
  {
   "cell_type": "code",
   "execution_count": 26,
   "metadata": {
    "scrolled": true
   },
   "outputs": [
    {
     "data": {
      "text/html": [
       "<div>\n",
       "<style scoped>\n",
       "    .dataframe tbody tr th:only-of-type {\n",
       "        vertical-align: middle;\n",
       "    }\n",
       "\n",
       "    .dataframe tbody tr th {\n",
       "        vertical-align: top;\n",
       "    }\n",
       "\n",
       "    .dataframe thead th {\n",
       "        text-align: right;\n",
       "    }\n",
       "</style>\n",
       "<table border=\"1\" class=\"dataframe\">\n",
       "  <thead>\n",
       "    <tr style=\"text-align: right;\">\n",
       "      <th></th>\n",
       "      <th>gmm_labels2</th>\n",
       "      <th>0</th>\n",
       "      <th>1</th>\n",
       "      <th>2</th>\n",
       "      <th>3</th>\n",
       "    </tr>\n",
       "  </thead>\n",
       "  <tbody>\n",
       "    <tr>\n",
       "      <th rowspan=\"8\" valign=\"top\">High School</th>\n",
       "      <th>count</th>\n",
       "      <td>1397.000000</td>\n",
       "      <td>3495.000000</td>\n",
       "      <td>3406.000000</td>\n",
       "      <td>1943.000000</td>\n",
       "    </tr>\n",
       "    <tr>\n",
       "      <th>mean</th>\n",
       "      <td>0.000000</td>\n",
       "      <td>1.000000</td>\n",
       "      <td>0.000000</td>\n",
       "      <td>0.000000</td>\n",
       "    </tr>\n",
       "    <tr>\n",
       "      <th>std</th>\n",
       "      <td>0.000000</td>\n",
       "      <td>0.000000</td>\n",
       "      <td>0.000000</td>\n",
       "      <td>0.000000</td>\n",
       "    </tr>\n",
       "    <tr>\n",
       "      <th>min</th>\n",
       "      <td>0.000000</td>\n",
       "      <td>1.000000</td>\n",
       "      <td>0.000000</td>\n",
       "      <td>0.000000</td>\n",
       "    </tr>\n",
       "    <tr>\n",
       "      <th>25%</th>\n",
       "      <td>0.000000</td>\n",
       "      <td>1.000000</td>\n",
       "      <td>0.000000</td>\n",
       "      <td>0.000000</td>\n",
       "    </tr>\n",
       "    <tr>\n",
       "      <th>50%</th>\n",
       "      <td>0.000000</td>\n",
       "      <td>1.000000</td>\n",
       "      <td>0.000000</td>\n",
       "      <td>0.000000</td>\n",
       "    </tr>\n",
       "    <tr>\n",
       "      <th>75%</th>\n",
       "      <td>0.000000</td>\n",
       "      <td>1.000000</td>\n",
       "      <td>0.000000</td>\n",
       "      <td>0.000000</td>\n",
       "    </tr>\n",
       "    <tr>\n",
       "      <th>max</th>\n",
       "      <td>0.000000</td>\n",
       "      <td>1.000000</td>\n",
       "      <td>0.000000</td>\n",
       "      <td>0.000000</td>\n",
       "    </tr>\n",
       "    <tr>\n",
       "      <th rowspan=\"8\" valign=\"top\">BSc/MSc</th>\n",
       "      <th>count</th>\n",
       "      <td>1397.000000</td>\n",
       "      <td>3495.000000</td>\n",
       "      <td>3406.000000</td>\n",
       "      <td>1943.000000</td>\n",
       "    </tr>\n",
       "    <tr>\n",
       "      <th>mean</th>\n",
       "      <td>1.000000</td>\n",
       "      <td>0.000000</td>\n",
       "      <td>1.000000</td>\n",
       "      <td>0.000000</td>\n",
       "    </tr>\n",
       "    <tr>\n",
       "      <th>std</th>\n",
       "      <td>0.000000</td>\n",
       "      <td>0.000000</td>\n",
       "      <td>0.000000</td>\n",
       "      <td>0.000000</td>\n",
       "    </tr>\n",
       "    <tr>\n",
       "      <th>min</th>\n",
       "      <td>1.000000</td>\n",
       "      <td>0.000000</td>\n",
       "      <td>1.000000</td>\n",
       "      <td>0.000000</td>\n",
       "    </tr>\n",
       "    <tr>\n",
       "      <th>25%</th>\n",
       "      <td>1.000000</td>\n",
       "      <td>0.000000</td>\n",
       "      <td>1.000000</td>\n",
       "      <td>0.000000</td>\n",
       "    </tr>\n",
       "    <tr>\n",
       "      <th>50%</th>\n",
       "      <td>1.000000</td>\n",
       "      <td>0.000000</td>\n",
       "      <td>1.000000</td>\n",
       "      <td>0.000000</td>\n",
       "    </tr>\n",
       "    <tr>\n",
       "      <th>75%</th>\n",
       "      <td>1.000000</td>\n",
       "      <td>0.000000</td>\n",
       "      <td>1.000000</td>\n",
       "      <td>0.000000</td>\n",
       "    </tr>\n",
       "    <tr>\n",
       "      <th>max</th>\n",
       "      <td>1.000000</td>\n",
       "      <td>0.000000</td>\n",
       "      <td>1.000000</td>\n",
       "      <td>0.000000</td>\n",
       "    </tr>\n",
       "    <tr>\n",
       "      <th rowspan=\"8\" valign=\"top\">PhD</th>\n",
       "      <th>count</th>\n",
       "      <td>1397.000000</td>\n",
       "      <td>3495.000000</td>\n",
       "      <td>3406.000000</td>\n",
       "      <td>1943.000000</td>\n",
       "    </tr>\n",
       "    <tr>\n",
       "      <th>mean</th>\n",
       "      <td>0.000000</td>\n",
       "      <td>0.000000</td>\n",
       "      <td>0.000000</td>\n",
       "      <td>0.359238</td>\n",
       "    </tr>\n",
       "    <tr>\n",
       "      <th>std</th>\n",
       "      <td>0.000000</td>\n",
       "      <td>0.000000</td>\n",
       "      <td>0.000000</td>\n",
       "      <td>0.479901</td>\n",
       "    </tr>\n",
       "    <tr>\n",
       "      <th>min</th>\n",
       "      <td>0.000000</td>\n",
       "      <td>0.000000</td>\n",
       "      <td>0.000000</td>\n",
       "      <td>0.000000</td>\n",
       "    </tr>\n",
       "    <tr>\n",
       "      <th>25%</th>\n",
       "      <td>0.000000</td>\n",
       "      <td>0.000000</td>\n",
       "      <td>0.000000</td>\n",
       "      <td>0.000000</td>\n",
       "    </tr>\n",
       "    <tr>\n",
       "      <th>50%</th>\n",
       "      <td>0.000000</td>\n",
       "      <td>0.000000</td>\n",
       "      <td>0.000000</td>\n",
       "      <td>0.000000</td>\n",
       "    </tr>\n",
       "    <tr>\n",
       "      <th>75%</th>\n",
       "      <td>0.000000</td>\n",
       "      <td>0.000000</td>\n",
       "      <td>0.000000</td>\n",
       "      <td>1.000000</td>\n",
       "    </tr>\n",
       "    <tr>\n",
       "      <th>max</th>\n",
       "      <td>0.000000</td>\n",
       "      <td>0.000000</td>\n",
       "      <td>0.000000</td>\n",
       "      <td>1.000000</td>\n",
       "    </tr>\n",
       "    <tr>\n",
       "      <th rowspan=\"8\" valign=\"top\">MonthSal</th>\n",
       "      <th>count</th>\n",
       "      <td>1397.000000</td>\n",
       "      <td>3495.000000</td>\n",
       "      <td>3406.000000</td>\n",
       "      <td>1943.000000</td>\n",
       "    </tr>\n",
       "    <tr>\n",
       "      <th>mean</th>\n",
       "      <td>0.646756</td>\n",
       "      <td>0.460036</td>\n",
       "      <td>0.422108</td>\n",
       "      <td>0.406788</td>\n",
       "    </tr>\n",
       "    <tr>\n",
       "      <th>std</th>\n",
       "      <td>0.174912</td>\n",
       "      <td>0.210018</td>\n",
       "      <td>0.161937</td>\n",
       "      <td>0.230597</td>\n",
       "    </tr>\n",
       "    <tr>\n",
       "      <th>min</th>\n",
       "      <td>0.010026</td>\n",
       "      <td>0.000000</td>\n",
       "      <td>0.006826</td>\n",
       "      <td>0.000000</td>\n",
       "    </tr>\n",
       "    <tr>\n",
       "      <th>25%</th>\n",
       "      <td>0.585751</td>\n",
       "      <td>0.283596</td>\n",
       "      <td>0.301621</td>\n",
       "      <td>0.204032</td>\n",
       "    </tr>\n",
       "    <tr>\n",
       "      <th>50%</th>\n",
       "      <td>0.687287</td>\n",
       "      <td>0.463097</td>\n",
       "      <td>0.418089</td>\n",
       "      <td>0.394411</td>\n",
       "    </tr>\n",
       "    <tr>\n",
       "      <th>75%</th>\n",
       "      <td>0.764078</td>\n",
       "      <td>0.632786</td>\n",
       "      <td>0.542555</td>\n",
       "      <td>0.595030</td>\n",
       "    </tr>\n",
       "    <tr>\n",
       "      <th>max</th>\n",
       "      <td>0.994454</td>\n",
       "      <td>1.000000</td>\n",
       "      <td>0.970563</td>\n",
       "      <td>0.968217</td>\n",
       "    </tr>\n",
       "    <tr>\n",
       "      <th rowspan=\"8\" valign=\"top\">GeoLivArea</th>\n",
       "      <th>count</th>\n",
       "      <td>1397.000000</td>\n",
       "      <td>3495.000000</td>\n",
       "      <td>3406.000000</td>\n",
       "      <td>1943.000000</td>\n",
       "    </tr>\n",
       "    <tr>\n",
       "      <th>mean</th>\n",
       "      <td>0.579814</td>\n",
       "      <td>0.579018</td>\n",
       "      <td>0.559111</td>\n",
       "      <td>0.564008</td>\n",
       "    </tr>\n",
       "    <tr>\n",
       "      <th>std</th>\n",
       "      <td>0.421217</td>\n",
       "      <td>0.422125</td>\n",
       "      <td>0.421962</td>\n",
       "      <td>0.423307</td>\n",
       "    </tr>\n",
       "    <tr>\n",
       "      <th>min</th>\n",
       "      <td>0.000000</td>\n",
       "      <td>0.000000</td>\n",
       "      <td>0.000000</td>\n",
       "      <td>0.000000</td>\n",
       "    </tr>\n",
       "    <tr>\n",
       "      <th>25%</th>\n",
       "      <td>0.000000</td>\n",
       "      <td>0.000000</td>\n",
       "      <td>0.000000</td>\n",
       "      <td>0.000000</td>\n",
       "    </tr>\n",
       "    <tr>\n",
       "      <th>50%</th>\n",
       "      <td>0.666667</td>\n",
       "      <td>0.666667</td>\n",
       "      <td>0.666667</td>\n",
       "      <td>0.666667</td>\n",
       "    </tr>\n",
       "    <tr>\n",
       "      <th>75%</th>\n",
       "      <td>1.000000</td>\n",
       "      <td>1.000000</td>\n",
       "      <td>1.000000</td>\n",
       "      <td>1.000000</td>\n",
       "    </tr>\n",
       "    <tr>\n",
       "      <th>max</th>\n",
       "      <td>1.000000</td>\n",
       "      <td>1.000000</td>\n",
       "      <td>1.000000</td>\n",
       "      <td>1.000000</td>\n",
       "    </tr>\n",
       "    <tr>\n",
       "      <th rowspan=\"8\" valign=\"top\">Children</th>\n",
       "      <th>count</th>\n",
       "      <td>1397.000000</td>\n",
       "      <td>3495.000000</td>\n",
       "      <td>3406.000000</td>\n",
       "      <td>1943.000000</td>\n",
       "    </tr>\n",
       "    <tr>\n",
       "      <th>mean</th>\n",
       "      <td>0.000000</td>\n",
       "      <td>0.707582</td>\n",
       "      <td>0.999824</td>\n",
       "      <td>0.703860</td>\n",
       "    </tr>\n",
       "    <tr>\n",
       "      <th>std</th>\n",
       "      <td>0.000000</td>\n",
       "      <td>0.454636</td>\n",
       "      <td>0.005934</td>\n",
       "      <td>0.456220</td>\n",
       "    </tr>\n",
       "    <tr>\n",
       "      <th>min</th>\n",
       "      <td>0.000000</td>\n",
       "      <td>0.000000</td>\n",
       "      <td>0.800000</td>\n",
       "      <td>0.000000</td>\n",
       "    </tr>\n",
       "    <tr>\n",
       "      <th>25%</th>\n",
       "      <td>0.000000</td>\n",
       "      <td>0.000000</td>\n",
       "      <td>1.000000</td>\n",
       "      <td>0.000000</td>\n",
       "    </tr>\n",
       "    <tr>\n",
       "      <th>50%</th>\n",
       "      <td>0.000000</td>\n",
       "      <td>1.000000</td>\n",
       "      <td>1.000000</td>\n",
       "      <td>1.000000</td>\n",
       "    </tr>\n",
       "    <tr>\n",
       "      <th>75%</th>\n",
       "      <td>0.000000</td>\n",
       "      <td>1.000000</td>\n",
       "      <td>1.000000</td>\n",
       "      <td>1.000000</td>\n",
       "    </tr>\n",
       "    <tr>\n",
       "      <th>max</th>\n",
       "      <td>0.000000</td>\n",
       "      <td>1.000000</td>\n",
       "      <td>1.000000</td>\n",
       "      <td>1.000000</td>\n",
       "    </tr>\n",
       "  </tbody>\n",
       "</table>\n",
       "</div>"
      ],
      "text/plain": [
       "gmm_labels2                  0            1            2            3\n",
       "High School count  1397.000000  3495.000000  3406.000000  1943.000000\n",
       "            mean      0.000000     1.000000     0.000000     0.000000\n",
       "            std       0.000000     0.000000     0.000000     0.000000\n",
       "            min       0.000000     1.000000     0.000000     0.000000\n",
       "            25%       0.000000     1.000000     0.000000     0.000000\n",
       "            50%       0.000000     1.000000     0.000000     0.000000\n",
       "            75%       0.000000     1.000000     0.000000     0.000000\n",
       "            max       0.000000     1.000000     0.000000     0.000000\n",
       "BSc/MSc     count  1397.000000  3495.000000  3406.000000  1943.000000\n",
       "            mean      1.000000     0.000000     1.000000     0.000000\n",
       "            std       0.000000     0.000000     0.000000     0.000000\n",
       "            min       1.000000     0.000000     1.000000     0.000000\n",
       "            25%       1.000000     0.000000     1.000000     0.000000\n",
       "            50%       1.000000     0.000000     1.000000     0.000000\n",
       "            75%       1.000000     0.000000     1.000000     0.000000\n",
       "            max       1.000000     0.000000     1.000000     0.000000\n",
       "PhD         count  1397.000000  3495.000000  3406.000000  1943.000000\n",
       "            mean      0.000000     0.000000     0.000000     0.359238\n",
       "            std       0.000000     0.000000     0.000000     0.479901\n",
       "            min       0.000000     0.000000     0.000000     0.000000\n",
       "            25%       0.000000     0.000000     0.000000     0.000000\n",
       "            50%       0.000000     0.000000     0.000000     0.000000\n",
       "            75%       0.000000     0.000000     0.000000     1.000000\n",
       "            max       0.000000     0.000000     0.000000     1.000000\n",
       "MonthSal    count  1397.000000  3495.000000  3406.000000  1943.000000\n",
       "            mean      0.646756     0.460036     0.422108     0.406788\n",
       "            std       0.174912     0.210018     0.161937     0.230597\n",
       "            min       0.010026     0.000000     0.006826     0.000000\n",
       "            25%       0.585751     0.283596     0.301621     0.204032\n",
       "            50%       0.687287     0.463097     0.418089     0.394411\n",
       "            75%       0.764078     0.632786     0.542555     0.595030\n",
       "            max       0.994454     1.000000     0.970563     0.968217\n",
       "GeoLivArea  count  1397.000000  3495.000000  3406.000000  1943.000000\n",
       "            mean      0.579814     0.579018     0.559111     0.564008\n",
       "            std       0.421217     0.422125     0.421962     0.423307\n",
       "            min       0.000000     0.000000     0.000000     0.000000\n",
       "            25%       0.000000     0.000000     0.000000     0.000000\n",
       "            50%       0.666667     0.666667     0.666667     0.666667\n",
       "            75%       1.000000     1.000000     1.000000     1.000000\n",
       "            max       1.000000     1.000000     1.000000     1.000000\n",
       "Children    count  1397.000000  3495.000000  3406.000000  1943.000000\n",
       "            mean      0.000000     0.707582     0.999824     0.703860\n",
       "            std       0.000000     0.454636     0.005934     0.456220\n",
       "            min       0.000000     0.000000     0.800000     0.000000\n",
       "            25%       0.000000     0.000000     1.000000     0.000000\n",
       "            50%       0.000000     1.000000     1.000000     1.000000\n",
       "            75%       0.000000     1.000000     1.000000     1.000000\n",
       "            max       0.000000     1.000000     1.000000     1.000000"
      ]
     },
     "execution_count": 26,
     "metadata": {},
     "output_type": "execute_result"
    }
   ],
   "source": [
    "df_concat_gmm2 = pd.concat([demo, pd.Series(gmm_labels, index=demo.index, name=\"gmm_labels2\")], axis=1)\n",
    "df_concat_gmm2.head()\n",
    "df_concat_gmm2.groupby('gmm_labels2').describe().T"
   ]
  },
  {
   "cell_type": "markdown",
   "metadata": {},
   "source": [
    "## Evaluation"
   ]
  },
  {
   "cell_type": "markdown",
   "metadata": {},
   "source": [
    "### Perspective 1: Customer Value"
   ]
  },
  {
   "cell_type": "markdown",
   "metadata": {},
   "source": [
    "#### Mean Shift Clustering"
   ]
  },
  {
   "cell_type": "markdown",
   "metadata": {},
   "source": [
    "* R^2"
   ]
  },
  {
   "cell_type": "code",
   "execution_count": 27,
   "metadata": {},
   "outputs": [
    {
     "name": "stdout",
     "output_type": "stream",
     "text": [
      "Cluster solution with R^2 of 0.3192\n"
     ]
    }
   ],
   "source": [
    "sst = get_ss(cust_val)  \n",
    "ssw_labels = df_concat_ms.groupby(by='ms_labels').apply(get_ss)\n",
    "ssb = sst - np.sum(ssw_labels) \n",
    "r2 = ssb / sst\n",
    "print(\"Cluster solution with R^2 of %0.4f\" % r2)\n"
   ]
  },
  {
   "cell_type": "markdown",
   "metadata": {},
   "source": [
    "* Silhouette Score"
   ]
  },
  {
   "cell_type": "code",
   "execution_count": 28,
   "metadata": {},
   "outputs": [
    {
     "data": {
      "text/plain": [
       "0.7821017212447997"
      ]
     },
     "execution_count": 28,
     "metadata": {},
     "output_type": "execute_result"
    }
   ],
   "source": [
    "silhouette_msc= silhouette_score(df_concat_ms, df_concat_ms['ms_labels'])\n",
    "silhouette_msc"
   ]
  },
  {
   "cell_type": "markdown",
   "metadata": {},
   "source": [
    "#### DBSCAN"
   ]
  },
  {
   "cell_type": "markdown",
   "metadata": {},
   "source": [
    "* R^2"
   ]
  },
  {
   "cell_type": "code",
   "execution_count": 29,
   "metadata": {},
   "outputs": [
    {
     "name": "stdout",
     "output_type": "stream",
     "text": [
      "Cluster solution with R^2 of 0.0046\n"
     ]
    }
   ],
   "source": [
    "df_nonoise = df_concat_dbscan.loc[df_concat_dbscan['dbscan_labels'] != -1]\n",
    "sst = get_ss(cust_val)  \n",
    "ssw_labels = df_nonoise.groupby(by='dbscan_labels').apply(get_ss)\n",
    "ssb = sst - np.sum(ssw_labels) \n",
    "r2 = ssb / sst\n",
    "print(\"Cluster solution with R^2 of %0.4f\" % r2)\n"
   ]
  },
  {
   "cell_type": "markdown",
   "metadata": {},
   "source": [
    "* Silhouette Score"
   ]
  },
  {
   "cell_type": "code",
   "execution_count": 30,
   "metadata": {
    "scrolled": true
   },
   "outputs": [
    {
     "data": {
      "text/plain": [
       "0.7396424034000307"
      ]
     },
     "execution_count": 30,
     "metadata": {},
     "output_type": "execute_result"
    }
   ],
   "source": [
    "silhouette_dbscan= silhouette_score(df_concat_dbscan, df_concat_dbscan['dbscan_labels'])\n",
    "silhouette_dbscan"
   ]
  },
  {
   "cell_type": "markdown",
   "metadata": {},
   "source": [
    "#### GMM"
   ]
  },
  {
   "cell_type": "markdown",
   "metadata": {},
   "source": [
    "* R^2 "
   ]
  },
  {
   "cell_type": "code",
   "execution_count": 31,
   "metadata": {
    "scrolled": false
   },
   "outputs": [
    {
     "name": "stdout",
     "output_type": "stream",
     "text": [
      "Cluster solution with R^2 of 0.1246\n"
     ]
    }
   ],
   "source": [
    "sst = get_ss(cust_val)  \n",
    "ssw_labels = df_concat_gmm.groupby(by='gmm_labels').apply(get_ss) \n",
    "ssb = sst - np.sum(ssw_labels) \n",
    "r2 = ssb / sst\n",
    "print(\"Cluster solution with R^2 of %0.4f\" % r2)"
   ]
  },
  {
   "cell_type": "markdown",
   "metadata": {},
   "source": [
    "* Silhouette Score"
   ]
  },
  {
   "cell_type": "code",
   "execution_count": 32,
   "metadata": {
    "scrolled": true
   },
   "outputs": [
    {
     "data": {
      "text/plain": [
       "0.7282147242868111"
      ]
     },
     "execution_count": 32,
     "metadata": {},
     "output_type": "execute_result"
    }
   ],
   "source": [
    "silhouette_gmm= silhouette_score(df_concat_gmm, df_concat_gmm['gmm_labels'])\n",
    "silhouette_gmm"
   ]
  },
  {
   "cell_type": "markdown",
   "metadata": {},
   "source": [
    "### Perspective 2: Customer Demography"
   ]
  },
  {
   "cell_type": "markdown",
   "metadata": {},
   "source": [
    "#### Mean Shift Clustering"
   ]
  },
  {
   "cell_type": "markdown",
   "metadata": {},
   "source": [
    "* R^2 "
   ]
  },
  {
   "cell_type": "code",
   "execution_count": 33,
   "metadata": {},
   "outputs": [
    {
     "name": "stdout",
     "output_type": "stream",
     "text": [
      "Cluster solution with R^2 of 0.7819\n"
     ]
    }
   ],
   "source": [
    "sst = get_ss(demo)  \n",
    "ssw_labels = df_concat_ms2.groupby(by='ms_labels2').apply(get_ss)\n",
    "ssb = sst - np.sum(ssw_labels) \n",
    "r2 = ssb / sst\n",
    "print(\"Cluster solution with R^2 of %0.4f\" % r2)"
   ]
  },
  {
   "cell_type": "markdown",
   "metadata": {},
   "source": [
    "* Silhouette Score"
   ]
  },
  {
   "cell_type": "code",
   "execution_count": 34,
   "metadata": {},
   "outputs": [
    {
     "data": {
      "text/plain": [
       "0.6890422978656705"
      ]
     },
     "execution_count": 34,
     "metadata": {},
     "output_type": "execute_result"
    }
   ],
   "source": [
    "silhouette_msc2= silhouette_score(df_concat_ms2, df_concat_ms2['ms_labels2'])\n",
    "silhouette_msc2"
   ]
  },
  {
   "cell_type": "markdown",
   "metadata": {},
   "source": [
    "#### DBSCAN"
   ]
  },
  {
   "cell_type": "markdown",
   "metadata": {},
   "source": [
    "* R^2 "
   ]
  },
  {
   "cell_type": "code",
   "execution_count": 35,
   "metadata": {
    "code_folding": []
   },
   "outputs": [
    {
     "name": "stdout",
     "output_type": "stream",
     "text": [
      "Cluster solution with R^2 of 0.9664\n"
     ]
    }
   ],
   "source": [
    "df_nonoise = df_concat_dbscan2.loc[df_concat_dbscan2['dbscan_labels2'] != -1]\n",
    "sst = get_ss(demo)  \n",
    "ssw_labels = df_nonoise.groupby(by='dbscan_labels2').apply(get_ss)\n",
    "ssb = sst - np.sum(ssw_labels) \n",
    "r2 = ssb / sst\n",
    "print(\"Cluster solution with R^2 of %0.4f\" % r2)\n"
   ]
  },
  {
   "cell_type": "markdown",
   "metadata": {},
   "source": [
    "* Silhouette Score"
   ]
  },
  {
   "cell_type": "code",
   "execution_count": 36,
   "metadata": {},
   "outputs": [
    {
     "data": {
      "text/plain": [
       "0.8682080223244842"
      ]
     },
     "execution_count": 36,
     "metadata": {},
     "output_type": "execute_result"
    }
   ],
   "source": [
    "silhouette_dbscan2= silhouette_score(df_concat_dbscan2, df_concat_dbscan2['dbscan_labels2'])\n",
    "silhouette_dbscan2"
   ]
  },
  {
   "cell_type": "markdown",
   "metadata": {},
   "source": [
    "#### GMM"
   ]
  },
  {
   "cell_type": "markdown",
   "metadata": {},
   "source": [
    "* R^2 "
   ]
  },
  {
   "cell_type": "code",
   "execution_count": 37,
   "metadata": {
    "scrolled": false
   },
   "outputs": [
    {
     "name": "stdout",
     "output_type": "stream",
     "text": [
      "Cluster solution with R^2 of 0.6172\n"
     ]
    }
   ],
   "source": [
    "sst = get_ss(demo)  \n",
    "ssw_labels = df_concat_gmm2.groupby(by='gmm_labels2').apply(get_ss) \n",
    "ssb = sst - np.sum(ssw_labels)  \n",
    "r2 = ssb / sst\n",
    "print(\"Cluster solution with R^2 of %0.4f\" % r2)"
   ]
  },
  {
   "cell_type": "markdown",
   "metadata": {},
   "source": [
    "* Silhouette Score"
   ]
  },
  {
   "cell_type": "code",
   "execution_count": 38,
   "metadata": {},
   "outputs": [
    {
     "data": {
      "text/plain": [
       "0.5908755448531401"
      ]
     },
     "execution_count": 38,
     "metadata": {},
     "output_type": "execute_result"
    }
   ],
   "source": [
    "silhouette_gmm2= silhouette_score(df_concat_gmm2, df_concat_gmm2['gmm_labels2'])\n",
    "silhouette_gmm2"
   ]
  }
 ],
 "metadata": {
  "kernelspec": {
   "display_name": "Python 3",
   "language": "python",
   "name": "python3"
  },
  "language_info": {
   "codemirror_mode": {
    "name": "ipython",
    "version": 3
   },
   "file_extension": ".py",
   "mimetype": "text/x-python",
   "name": "python",
   "nbconvert_exporter": "python",
   "pygments_lexer": "ipython3",
   "version": "3.7.6"
  },
  "toc": {
   "base_numbering": 1,
   "nav_menu": {},
   "number_sections": true,
   "sideBar": true,
   "skip_h1_title": false,
   "title_cell": "Table of Contents",
   "title_sidebar": "Contents",
   "toc_cell": false,
   "toc_position": {
    "height": "calc(100% - 180px)",
    "left": "10px",
    "top": "150px",
    "width": "307.2px"
   },
   "toc_section_display": true,
   "toc_window_display": true
  }
 },
 "nbformat": 4,
 "nbformat_minor": 5
}
